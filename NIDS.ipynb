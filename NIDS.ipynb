{
  "nbformat": 4,
  "nbformat_minor": 0,
  "metadata": {
    "colab": {
      "provenance": [],
      "gpuType": "T4"
    },
    "kernelspec": {
      "name": "python3",
      "display_name": "Python 3"
    },
    "language_info": {
      "name": "python"
    },
    "accelerator": "GPU"
  },
  "cells": [
    {
      "cell_type": "code",
      "execution_count": 30,
      "metadata": {
        "id": "M7OU5ZqZPo5i"
      },
      "outputs": [],
      "source": [
        "import numpy as np\n",
        "import pandas as pd\n",
        "import seaborn as sns\n",
        "import matplotlib.pyplot as plt\n",
        "from pandas.api.types import is_numeric_dtype\n",
        "import warnings\n",
        "from sklearn import tree\n",
        "from sklearn.model_selection import train_test_split\n",
        "from sklearn.neighbors import KNeighborsClassifier\n",
        "from sklearn.linear_model import LogisticRegression\n",
        "from sklearn.preprocessing import StandardScaler, LabelEncoder\n",
        "from sklearn.tree  import DecisionTreeClassifier\n",
        "from sklearn.ensemble import RandomForestClassifier, AdaBoostClassifier, VotingClassifier, GradientBoostingClassifier\n",
        "from sklearn.svm import SVC, LinearSVC\n",
        "from sklearn.naive_bayes import BernoulliNB\n",
        "from lightgbm import LGBMClassifier\n",
        "from sklearn.feature_selection import RFE\n",
        "import itertools\n",
        "from xgboost import XGBClassifier\n",
        "from tabulate import tabulate\n",
        "import tensorflow as tf\n",
        "from tensorflow import keras\n",
        "from keras.layers import Dense\n",
        "from keras.models import Sequential, load_model\n",
        "from keras.optimizers import Adam\n",
        "from keras.layers import BatchNormalization\n",
        "from keras.callbacks import ReduceLROnPlateau"
      ]
    },
    {
      "cell_type": "code",
      "source": [
        "from google.colab import drive\n",
        "drive.mount('/content/drive')"
      ],
      "metadata": {
        "colab": {
          "base_uri": "https://localhost:8080/"
        },
        "id": "-alGHVBfP5yn",
        "outputId": "22788832-fdbb-485b-81f5-da83d675a3cc"
      },
      "execution_count": 31,
      "outputs": [
        {
          "output_type": "stream",
          "name": "stdout",
          "text": [
            "Drive already mounted at /content/drive; to attempt to forcibly remount, call drive.mount(\"/content/drive\", force_remount=True).\n"
          ]
        }
      ]
    },
    {
      "cell_type": "code",
      "source": [
        "train=pd.read_csv(f\"/content/drive/MyDrive/My datasets/02-14-2018.csv\")"
      ],
      "metadata": {
        "id": "FuNX1kVgTUP9"
      },
      "execution_count": 32,
      "outputs": []
    },
    {
      "cell_type": "code",
      "source": [
        "train.head()"
      ],
      "metadata": {
        "colab": {
          "base_uri": "https://localhost:8080/",
          "height": 394
        },
        "id": "B6g7y-NdTYvv",
        "outputId": "480c4df2-a880-4736-a7e4-838538f3d4fb"
      },
      "execution_count": 33,
      "outputs": [
        {
          "output_type": "execute_result",
          "data": {
            "text/plain": [
              "   Dst Port  Protocol            Timestamp  Flow Duration  Tot Fwd Pkts  \\\n",
              "0         0         0  14/02/2018 08:31:01      112641719             3   \n",
              "1         0         0  14/02/2018 08:33:50      112641466             3   \n",
              "2         0         0  14/02/2018 08:36:39      112638623             3   \n",
              "3        22         6  14/02/2018 08:40:13        6453966            15   \n",
              "4        22         6  14/02/2018 08:40:23        8804066            14   \n",
              "\n",
              "   Tot Bwd Pkts  TotLen Fwd Pkts  TotLen Bwd Pkts  Fwd Pkt Len Max  \\\n",
              "0             0                0                0                0   \n",
              "1             0                0                0                0   \n",
              "2             0                0                0                0   \n",
              "3            10             1239             2273              744   \n",
              "4            11             1143             2209              744   \n",
              "\n",
              "   Fwd Pkt Len Min  ...  Fwd Seg Size Min  Active Mean  Active Std  \\\n",
              "0                0  ...                 0          0.0         0.0   \n",
              "1                0  ...                 0          0.0         0.0   \n",
              "2                0  ...                 0          0.0         0.0   \n",
              "3                0  ...                32          0.0         0.0   \n",
              "4                0  ...                32          0.0         0.0   \n",
              "\n",
              "   Active Max  Active Min   Idle Mean    Idle Std  Idle Max  Idle Min   Label  \n",
              "0           0           0  56320859.5  139.300036  56320958  56320761  Benign  \n",
              "1           0           0  56320733.0  114.551299  56320814  56320652  Benign  \n",
              "2           0           0  56319311.5  301.934596  56319525  56319098  Benign  \n",
              "3           0           0         0.0    0.000000         0         0  Benign  \n",
              "4           0           0         0.0    0.000000         0         0  Benign  \n",
              "\n",
              "[5 rows x 80 columns]"
            ],
            "text/html": [
              "\n",
              "  <div id=\"df-7be4765e-c215-49a0-b9b0-632127b68614\" class=\"colab-df-container\">\n",
              "    <div>\n",
              "<style scoped>\n",
              "    .dataframe tbody tr th:only-of-type {\n",
              "        vertical-align: middle;\n",
              "    }\n",
              "\n",
              "    .dataframe tbody tr th {\n",
              "        vertical-align: top;\n",
              "    }\n",
              "\n",
              "    .dataframe thead th {\n",
              "        text-align: right;\n",
              "    }\n",
              "</style>\n",
              "<table border=\"1\" class=\"dataframe\">\n",
              "  <thead>\n",
              "    <tr style=\"text-align: right;\">\n",
              "      <th></th>\n",
              "      <th>Dst Port</th>\n",
              "      <th>Protocol</th>\n",
              "      <th>Timestamp</th>\n",
              "      <th>Flow Duration</th>\n",
              "      <th>Tot Fwd Pkts</th>\n",
              "      <th>Tot Bwd Pkts</th>\n",
              "      <th>TotLen Fwd Pkts</th>\n",
              "      <th>TotLen Bwd Pkts</th>\n",
              "      <th>Fwd Pkt Len Max</th>\n",
              "      <th>Fwd Pkt Len Min</th>\n",
              "      <th>...</th>\n",
              "      <th>Fwd Seg Size Min</th>\n",
              "      <th>Active Mean</th>\n",
              "      <th>Active Std</th>\n",
              "      <th>Active Max</th>\n",
              "      <th>Active Min</th>\n",
              "      <th>Idle Mean</th>\n",
              "      <th>Idle Std</th>\n",
              "      <th>Idle Max</th>\n",
              "      <th>Idle Min</th>\n",
              "      <th>Label</th>\n",
              "    </tr>\n",
              "  </thead>\n",
              "  <tbody>\n",
              "    <tr>\n",
              "      <th>0</th>\n",
              "      <td>0</td>\n",
              "      <td>0</td>\n",
              "      <td>14/02/2018 08:31:01</td>\n",
              "      <td>112641719</td>\n",
              "      <td>3</td>\n",
              "      <td>0</td>\n",
              "      <td>0</td>\n",
              "      <td>0</td>\n",
              "      <td>0</td>\n",
              "      <td>0</td>\n",
              "      <td>...</td>\n",
              "      <td>0</td>\n",
              "      <td>0.0</td>\n",
              "      <td>0.0</td>\n",
              "      <td>0</td>\n",
              "      <td>0</td>\n",
              "      <td>56320859.5</td>\n",
              "      <td>139.300036</td>\n",
              "      <td>56320958</td>\n",
              "      <td>56320761</td>\n",
              "      <td>Benign</td>\n",
              "    </tr>\n",
              "    <tr>\n",
              "      <th>1</th>\n",
              "      <td>0</td>\n",
              "      <td>0</td>\n",
              "      <td>14/02/2018 08:33:50</td>\n",
              "      <td>112641466</td>\n",
              "      <td>3</td>\n",
              "      <td>0</td>\n",
              "      <td>0</td>\n",
              "      <td>0</td>\n",
              "      <td>0</td>\n",
              "      <td>0</td>\n",
              "      <td>...</td>\n",
              "      <td>0</td>\n",
              "      <td>0.0</td>\n",
              "      <td>0.0</td>\n",
              "      <td>0</td>\n",
              "      <td>0</td>\n",
              "      <td>56320733.0</td>\n",
              "      <td>114.551299</td>\n",
              "      <td>56320814</td>\n",
              "      <td>56320652</td>\n",
              "      <td>Benign</td>\n",
              "    </tr>\n",
              "    <tr>\n",
              "      <th>2</th>\n",
              "      <td>0</td>\n",
              "      <td>0</td>\n",
              "      <td>14/02/2018 08:36:39</td>\n",
              "      <td>112638623</td>\n",
              "      <td>3</td>\n",
              "      <td>0</td>\n",
              "      <td>0</td>\n",
              "      <td>0</td>\n",
              "      <td>0</td>\n",
              "      <td>0</td>\n",
              "      <td>...</td>\n",
              "      <td>0</td>\n",
              "      <td>0.0</td>\n",
              "      <td>0.0</td>\n",
              "      <td>0</td>\n",
              "      <td>0</td>\n",
              "      <td>56319311.5</td>\n",
              "      <td>301.934596</td>\n",
              "      <td>56319525</td>\n",
              "      <td>56319098</td>\n",
              "      <td>Benign</td>\n",
              "    </tr>\n",
              "    <tr>\n",
              "      <th>3</th>\n",
              "      <td>22</td>\n",
              "      <td>6</td>\n",
              "      <td>14/02/2018 08:40:13</td>\n",
              "      <td>6453966</td>\n",
              "      <td>15</td>\n",
              "      <td>10</td>\n",
              "      <td>1239</td>\n",
              "      <td>2273</td>\n",
              "      <td>744</td>\n",
              "      <td>0</td>\n",
              "      <td>...</td>\n",
              "      <td>32</td>\n",
              "      <td>0.0</td>\n",
              "      <td>0.0</td>\n",
              "      <td>0</td>\n",
              "      <td>0</td>\n",
              "      <td>0.0</td>\n",
              "      <td>0.000000</td>\n",
              "      <td>0</td>\n",
              "      <td>0</td>\n",
              "      <td>Benign</td>\n",
              "    </tr>\n",
              "    <tr>\n",
              "      <th>4</th>\n",
              "      <td>22</td>\n",
              "      <td>6</td>\n",
              "      <td>14/02/2018 08:40:23</td>\n",
              "      <td>8804066</td>\n",
              "      <td>14</td>\n",
              "      <td>11</td>\n",
              "      <td>1143</td>\n",
              "      <td>2209</td>\n",
              "      <td>744</td>\n",
              "      <td>0</td>\n",
              "      <td>...</td>\n",
              "      <td>32</td>\n",
              "      <td>0.0</td>\n",
              "      <td>0.0</td>\n",
              "      <td>0</td>\n",
              "      <td>0</td>\n",
              "      <td>0.0</td>\n",
              "      <td>0.000000</td>\n",
              "      <td>0</td>\n",
              "      <td>0</td>\n",
              "      <td>Benign</td>\n",
              "    </tr>\n",
              "  </tbody>\n",
              "</table>\n",
              "<p>5 rows × 80 columns</p>\n",
              "</div>\n",
              "    <div class=\"colab-df-buttons\">\n",
              "\n",
              "  <div class=\"colab-df-container\">\n",
              "    <button class=\"colab-df-convert\" onclick=\"convertToInteractive('df-7be4765e-c215-49a0-b9b0-632127b68614')\"\n",
              "            title=\"Convert this dataframe to an interactive table.\"\n",
              "            style=\"display:none;\">\n",
              "\n",
              "  <svg xmlns=\"http://www.w3.org/2000/svg\" height=\"24px\" viewBox=\"0 -960 960 960\">\n",
              "    <path d=\"M120-120v-720h720v720H120Zm60-500h600v-160H180v160Zm220 220h160v-160H400v160Zm0 220h160v-160H400v160ZM180-400h160v-160H180v160Zm440 0h160v-160H620v160ZM180-180h160v-160H180v160Zm440 0h160v-160H620v160Z\"/>\n",
              "  </svg>\n",
              "    </button>\n",
              "\n",
              "  <style>\n",
              "    .colab-df-container {\n",
              "      display:flex;\n",
              "      gap: 12px;\n",
              "    }\n",
              "\n",
              "    .colab-df-convert {\n",
              "      background-color: #E8F0FE;\n",
              "      border: none;\n",
              "      border-radius: 50%;\n",
              "      cursor: pointer;\n",
              "      display: none;\n",
              "      fill: #1967D2;\n",
              "      height: 32px;\n",
              "      padding: 0 0 0 0;\n",
              "      width: 32px;\n",
              "    }\n",
              "\n",
              "    .colab-df-convert:hover {\n",
              "      background-color: #E2EBFA;\n",
              "      box-shadow: 0px 1px 2px rgba(60, 64, 67, 0.3), 0px 1px 3px 1px rgba(60, 64, 67, 0.15);\n",
              "      fill: #174EA6;\n",
              "    }\n",
              "\n",
              "    .colab-df-buttons div {\n",
              "      margin-bottom: 4px;\n",
              "    }\n",
              "\n",
              "    [theme=dark] .colab-df-convert {\n",
              "      background-color: #3B4455;\n",
              "      fill: #D2E3FC;\n",
              "    }\n",
              "\n",
              "    [theme=dark] .colab-df-convert:hover {\n",
              "      background-color: #434B5C;\n",
              "      box-shadow: 0px 1px 3px 1px rgba(0, 0, 0, 0.15);\n",
              "      filter: drop-shadow(0px 1px 2px rgba(0, 0, 0, 0.3));\n",
              "      fill: #FFFFFF;\n",
              "    }\n",
              "  </style>\n",
              "\n",
              "    <script>\n",
              "      const buttonEl =\n",
              "        document.querySelector('#df-7be4765e-c215-49a0-b9b0-632127b68614 button.colab-df-convert');\n",
              "      buttonEl.style.display =\n",
              "        google.colab.kernel.accessAllowed ? 'block' : 'none';\n",
              "\n",
              "      async function convertToInteractive(key) {\n",
              "        const element = document.querySelector('#df-7be4765e-c215-49a0-b9b0-632127b68614');\n",
              "        const dataTable =\n",
              "          await google.colab.kernel.invokeFunction('convertToInteractive',\n",
              "                                                    [key], {});\n",
              "        if (!dataTable) return;\n",
              "\n",
              "        const docLinkHtml = 'Like what you see? Visit the ' +\n",
              "          '<a target=\"_blank\" href=https://colab.research.google.com/notebooks/data_table.ipynb>data table notebook</a>'\n",
              "          + ' to learn more about interactive tables.';\n",
              "        element.innerHTML = '';\n",
              "        dataTable['output_type'] = 'display_data';\n",
              "        await google.colab.output.renderOutput(dataTable, element);\n",
              "        const docLink = document.createElement('div');\n",
              "        docLink.innerHTML = docLinkHtml;\n",
              "        element.appendChild(docLink);\n",
              "      }\n",
              "    </script>\n",
              "  </div>\n",
              "\n",
              "\n",
              "<div id=\"df-840a601c-4c3c-4ca5-bde0-1eab538c9c15\">\n",
              "  <button class=\"colab-df-quickchart\" onclick=\"quickchart('df-840a601c-4c3c-4ca5-bde0-1eab538c9c15')\"\n",
              "            title=\"Suggest charts\"\n",
              "            style=\"display:none;\">\n",
              "\n",
              "<svg xmlns=\"http://www.w3.org/2000/svg\" height=\"24px\"viewBox=\"0 0 24 24\"\n",
              "     width=\"24px\">\n",
              "    <g>\n",
              "        <path d=\"M19 3H5c-1.1 0-2 .9-2 2v14c0 1.1.9 2 2 2h14c1.1 0 2-.9 2-2V5c0-1.1-.9-2-2-2zM9 17H7v-7h2v7zm4 0h-2V7h2v10zm4 0h-2v-4h2v4z\"/>\n",
              "    </g>\n",
              "</svg>\n",
              "  </button>\n",
              "\n",
              "<style>\n",
              "  .colab-df-quickchart {\n",
              "      --bg-color: #E8F0FE;\n",
              "      --fill-color: #1967D2;\n",
              "      --hover-bg-color: #E2EBFA;\n",
              "      --hover-fill-color: #174EA6;\n",
              "      --disabled-fill-color: #AAA;\n",
              "      --disabled-bg-color: #DDD;\n",
              "  }\n",
              "\n",
              "  [theme=dark] .colab-df-quickchart {\n",
              "      --bg-color: #3B4455;\n",
              "      --fill-color: #D2E3FC;\n",
              "      --hover-bg-color: #434B5C;\n",
              "      --hover-fill-color: #FFFFFF;\n",
              "      --disabled-bg-color: #3B4455;\n",
              "      --disabled-fill-color: #666;\n",
              "  }\n",
              "\n",
              "  .colab-df-quickchart {\n",
              "    background-color: var(--bg-color);\n",
              "    border: none;\n",
              "    border-radius: 50%;\n",
              "    cursor: pointer;\n",
              "    display: none;\n",
              "    fill: var(--fill-color);\n",
              "    height: 32px;\n",
              "    padding: 0;\n",
              "    width: 32px;\n",
              "  }\n",
              "\n",
              "  .colab-df-quickchart:hover {\n",
              "    background-color: var(--hover-bg-color);\n",
              "    box-shadow: 0 1px 2px rgba(60, 64, 67, 0.3), 0 1px 3px 1px rgba(60, 64, 67, 0.15);\n",
              "    fill: var(--button-hover-fill-color);\n",
              "  }\n",
              "\n",
              "  .colab-df-quickchart-complete:disabled,\n",
              "  .colab-df-quickchart-complete:disabled:hover {\n",
              "    background-color: var(--disabled-bg-color);\n",
              "    fill: var(--disabled-fill-color);\n",
              "    box-shadow: none;\n",
              "  }\n",
              "\n",
              "  .colab-df-spinner {\n",
              "    border: 2px solid var(--fill-color);\n",
              "    border-color: transparent;\n",
              "    border-bottom-color: var(--fill-color);\n",
              "    animation:\n",
              "      spin 1s steps(1) infinite;\n",
              "  }\n",
              "\n",
              "  @keyframes spin {\n",
              "    0% {\n",
              "      border-color: transparent;\n",
              "      border-bottom-color: var(--fill-color);\n",
              "      border-left-color: var(--fill-color);\n",
              "    }\n",
              "    20% {\n",
              "      border-color: transparent;\n",
              "      border-left-color: var(--fill-color);\n",
              "      border-top-color: var(--fill-color);\n",
              "    }\n",
              "    30% {\n",
              "      border-color: transparent;\n",
              "      border-left-color: var(--fill-color);\n",
              "      border-top-color: var(--fill-color);\n",
              "      border-right-color: var(--fill-color);\n",
              "    }\n",
              "    40% {\n",
              "      border-color: transparent;\n",
              "      border-right-color: var(--fill-color);\n",
              "      border-top-color: var(--fill-color);\n",
              "    }\n",
              "    60% {\n",
              "      border-color: transparent;\n",
              "      border-right-color: var(--fill-color);\n",
              "    }\n",
              "    80% {\n",
              "      border-color: transparent;\n",
              "      border-right-color: var(--fill-color);\n",
              "      border-bottom-color: var(--fill-color);\n",
              "    }\n",
              "    90% {\n",
              "      border-color: transparent;\n",
              "      border-bottom-color: var(--fill-color);\n",
              "    }\n",
              "  }\n",
              "</style>\n",
              "\n",
              "  <script>\n",
              "    async function quickchart(key) {\n",
              "      const quickchartButtonEl =\n",
              "        document.querySelector('#' + key + ' button');\n",
              "      quickchartButtonEl.disabled = true;  // To prevent multiple clicks.\n",
              "      quickchartButtonEl.classList.add('colab-df-spinner');\n",
              "      try {\n",
              "        const charts = await google.colab.kernel.invokeFunction(\n",
              "            'suggestCharts', [key], {});\n",
              "      } catch (error) {\n",
              "        console.error('Error during call to suggestCharts:', error);\n",
              "      }\n",
              "      quickchartButtonEl.classList.remove('colab-df-spinner');\n",
              "      quickchartButtonEl.classList.add('colab-df-quickchart-complete');\n",
              "    }\n",
              "    (() => {\n",
              "      let quickchartButtonEl =\n",
              "        document.querySelector('#df-840a601c-4c3c-4ca5-bde0-1eab538c9c15 button');\n",
              "      quickchartButtonEl.style.display =\n",
              "        google.colab.kernel.accessAllowed ? 'block' : 'none';\n",
              "    })();\n",
              "  </script>\n",
              "</div>\n",
              "    </div>\n",
              "  </div>\n"
            ]
          },
          "metadata": {},
          "execution_count": 33
        }
      ]
    },
    {
      "cell_type": "code",
      "source": [
        "train.info()"
      ],
      "metadata": {
        "colab": {
          "base_uri": "https://localhost:8080/"
        },
        "id": "s1UP1KTwUQko",
        "outputId": "61eeb5eb-1026-4a6e-b578-3d8516a8fadb"
      },
      "execution_count": 67,
      "outputs": [
        {
          "output_type": "stream",
          "name": "stdout",
          "text": [
            "<class 'pandas.core.frame.DataFrame'>\n",
            "RangeIndex: 1048575 entries, 0 to 1048574\n",
            "Data columns (total 80 columns):\n",
            " #   Column             Non-Null Count    Dtype  \n",
            "---  ------             --------------    -----  \n",
            " 0   Dst Port           1048575 non-null  int64  \n",
            " 1   Protocol           1048575 non-null  int64  \n",
            " 2   Timestamp          1048575 non-null  int64  \n",
            " 3   Flow Duration      1048575 non-null  int64  \n",
            " 4   Tot Fwd Pkts       1048575 non-null  int64  \n",
            " 5   Tot Bwd Pkts       1048575 non-null  int64  \n",
            " 6   TotLen Fwd Pkts    1048575 non-null  int64  \n",
            " 7   TotLen Bwd Pkts    1048575 non-null  int64  \n",
            " 8   Fwd Pkt Len Max    1048575 non-null  int64  \n",
            " 9   Fwd Pkt Len Min    1048575 non-null  int64  \n",
            " 10  Fwd Pkt Len Mean   1048575 non-null  float64\n",
            " 11  Fwd Pkt Len Std    1048575 non-null  float64\n",
            " 12  Bwd Pkt Len Max    1048575 non-null  int64  \n",
            " 13  Bwd Pkt Len Min    1048575 non-null  int64  \n",
            " 14  Bwd Pkt Len Mean   1048575 non-null  float64\n",
            " 15  Bwd Pkt Len Std    1048575 non-null  float64\n",
            " 16  Flow Byts/s        1044751 non-null  float64\n",
            " 17  Flow Pkts/s        1044751 non-null  float64\n",
            " 18  Flow IAT Mean      1048575 non-null  float64\n",
            " 19  Flow IAT Std       1048575 non-null  float64\n",
            " 20  Flow IAT Max       1048575 non-null  int64  \n",
            " 21  Flow IAT Min       1048575 non-null  int64  \n",
            " 22  Fwd IAT Tot        1048575 non-null  int64  \n",
            " 23  Fwd IAT Mean       1048575 non-null  float64\n",
            " 24  Fwd IAT Std        1048575 non-null  float64\n",
            " 25  Fwd IAT Max        1048575 non-null  int64  \n",
            " 26  Fwd IAT Min        1048575 non-null  int64  \n",
            " 27  Bwd IAT Tot        1048575 non-null  int64  \n",
            " 28  Bwd IAT Mean       1048575 non-null  float64\n",
            " 29  Bwd IAT Std        1048575 non-null  float64\n",
            " 30  Bwd IAT Max        1048575 non-null  int64  \n",
            " 31  Bwd IAT Min        1048575 non-null  int64  \n",
            " 32  Fwd PSH Flags      1048575 non-null  int64  \n",
            " 33  Bwd PSH Flags      1048575 non-null  int64  \n",
            " 34  Fwd URG Flags      1048575 non-null  int64  \n",
            " 35  Bwd URG Flags      1048575 non-null  int64  \n",
            " 36  Fwd Header Len     1048575 non-null  int64  \n",
            " 37  Bwd Header Len     1048575 non-null  int64  \n",
            " 38  Fwd Pkts/s         1048575 non-null  float64\n",
            " 39  Bwd Pkts/s         1048575 non-null  float64\n",
            " 40  Pkt Len Min        1048575 non-null  int64  \n",
            " 41  Pkt Len Max        1048575 non-null  int64  \n",
            " 42  Pkt Len Mean       1048575 non-null  float64\n",
            " 43  Pkt Len Std        1048575 non-null  float64\n",
            " 44  Pkt Len Var        1048575 non-null  float64\n",
            " 45  FIN Flag Cnt       1048575 non-null  int64  \n",
            " 46  SYN Flag Cnt       1048575 non-null  int64  \n",
            " 47  RST Flag Cnt       1048575 non-null  int64  \n",
            " 48  PSH Flag Cnt       1048575 non-null  int64  \n",
            " 49  ACK Flag Cnt       1048575 non-null  int64  \n",
            " 50  URG Flag Cnt       1048575 non-null  int64  \n",
            " 51  CWE Flag Count     1048575 non-null  int64  \n",
            " 52  ECE Flag Cnt       1048575 non-null  int64  \n",
            " 53  Down/Up Ratio      1048575 non-null  int64  \n",
            " 54  Pkt Size Avg       1048575 non-null  float64\n",
            " 55  Fwd Seg Size Avg   1048575 non-null  float64\n",
            " 56  Bwd Seg Size Avg   1048575 non-null  float64\n",
            " 57  Fwd Byts/b Avg     1048575 non-null  int64  \n",
            " 58  Fwd Pkts/b Avg     1048575 non-null  int64  \n",
            " 59  Fwd Blk Rate Avg   1048575 non-null  int64  \n",
            " 60  Bwd Byts/b Avg     1048575 non-null  int64  \n",
            " 61  Bwd Pkts/b Avg     1048575 non-null  int64  \n",
            " 62  Bwd Blk Rate Avg   1048575 non-null  int64  \n",
            " 63  Subflow Fwd Pkts   1048575 non-null  int64  \n",
            " 64  Subflow Fwd Byts   1048575 non-null  int64  \n",
            " 65  Subflow Bwd Pkts   1048575 non-null  int64  \n",
            " 66  Subflow Bwd Byts   1048575 non-null  int64  \n",
            " 67  Init Fwd Win Byts  1048575 non-null  int64  \n",
            " 68  Init Bwd Win Byts  1048575 non-null  int64  \n",
            " 69  Fwd Act Data Pkts  1048575 non-null  int64  \n",
            " 70  Fwd Seg Size Min   1048575 non-null  int64  \n",
            " 71  Active Mean        1048575 non-null  float64\n",
            " 72  Active Std         1048575 non-null  float64\n",
            " 73  Active Max         1048575 non-null  int64  \n",
            " 74  Active Min         1048575 non-null  int64  \n",
            " 75  Idle Mean          1048575 non-null  float64\n",
            " 76  Idle Std           1048575 non-null  float64\n",
            " 77  Idle Max           1048575 non-null  int64  \n",
            " 78  Idle Min           1048575 non-null  int64  \n",
            " 79  Label              1048575 non-null  int64  \n",
            "dtypes: float64(24), int64(56)\n",
            "memory usage: 640.0 MB\n"
          ]
        }
      ]
    },
    {
      "cell_type": "code",
      "source": [
        "train.shape"
      ],
      "metadata": {
        "colab": {
          "base_uri": "https://localhost:8080/"
        },
        "id": "WaJgFgsvUkhm",
        "outputId": "45e67ae7-30d9-4627-ffa9-51b7004f2773"
      },
      "execution_count": 35,
      "outputs": [
        {
          "output_type": "execute_result",
          "data": {
            "text/plain": [
              "(1048575, 80)"
            ]
          },
          "metadata": {},
          "execution_count": 35
        }
      ]
    },
    {
      "cell_type": "code",
      "source": [
        "train.isnull().sum()"
      ],
      "metadata": {
        "colab": {
          "base_uri": "https://localhost:8080/"
        },
        "id": "rbkP1pN2UqpE",
        "outputId": "807ce875-87d1-4a0b-c259-f464aada8ed1"
      },
      "execution_count": 36,
      "outputs": [
        {
          "output_type": "execute_result",
          "data": {
            "text/plain": [
              "Dst Port         0\n",
              "Protocol         0\n",
              "Timestamp        0\n",
              "Flow Duration    0\n",
              "Tot Fwd Pkts     0\n",
              "                ..\n",
              "Idle Mean        0\n",
              "Idle Std         0\n",
              "Idle Max         0\n",
              "Idle Min         0\n",
              "Label            0\n",
              "Length: 80, dtype: int64"
            ]
          },
          "metadata": {},
          "execution_count": 36
        }
      ]
    },
    {
      "cell_type": "code",
      "source": [
        "# total = train.shape[0]\n",
        "# missing_columns = [col for col in train.columns if train[col].isnull().sum() > 0]\n",
        "# for col in missing_columns:\n",
        "#     null_count = train[col].isnull().sum()\n",
        "#     per = (null_count/total) * 100\n",
        "#     print(f\"{col}: {null_count} ({round(per, 3)}%)\")"
      ],
      "metadata": {
        "id": "JlzupQEYUuxK",
        "colab": {
          "base_uri": "https://localhost:8080/"
        },
        "outputId": "89e160d4-857c-4f91-cc64-4090dad26803"
      },
      "execution_count": 37,
      "outputs": [
        {
          "output_type": "stream",
          "name": "stdout",
          "text": [
            "Flow Byts/s: 2277 (0.217%)\n"
          ]
        }
      ]
    },
    {
      "cell_type": "code",
      "source": [
        "print(f\"Number of duplicate rows: {train.duplicated().sum()}\")"
      ],
      "metadata": {
        "colab": {
          "base_uri": "https://localhost:8080/"
        },
        "id": "uyUv8vwoXsCf",
        "outputId": "670e22c5-0da6-46e2-9e0f-7c037839fd90"
      },
      "execution_count": 38,
      "outputs": [
        {
          "output_type": "stream",
          "name": "stdout",
          "text": [
            "Number of duplicate rows: 225628\n"
          ]
        }
      ]
    },
    {
      "cell_type": "code",
      "source": [
        "# Remove duplicate rows\n",
        "df_no_duplicates = train.drop_duplicates()\n",
        "\n",
        "# Display the DataFrame after removing duplicates\n",
        "print(\"\\nDataFrame after removing duplicates:\")\n",
        "print(df_no_duplicates)"
      ],
      "metadata": {
        "colab": {
          "base_uri": "https://localhost:8080/"
        },
        "id": "JH30CyAK9eeX",
        "outputId": "456e80a3-73bc-4bba-b6d9-710adb4c0fbe"
      },
      "execution_count": 39,
      "outputs": [
        {
          "output_type": "stream",
          "name": "stdout",
          "text": [
            "\n",
            "DataFrame after removing duplicates:\n",
            "         Dst Port  Protocol            Timestamp  Flow Duration  Tot Fwd Pkts  \\\n",
            "0               0         0  14/02/2018 08:31:01      112641719             3   \n",
            "1               0         0  14/02/2018 08:33:50      112641466             3   \n",
            "2               0         0  14/02/2018 08:36:39      112638623             3   \n",
            "3              22         6  14/02/2018 08:40:13        6453966            15   \n",
            "4              22         6  14/02/2018 08:40:23        8804066            14   \n",
            "...           ...       ...                  ...            ...           ...   \n",
            "1048570        80         6  14/02/2018 10:53:23       10156986             5   \n",
            "1048571        80         6  14/02/2018 10:53:33            117             2   \n",
            "1048572        80         6  14/02/2018 10:53:28        5095331             3   \n",
            "1048573        80         6  14/02/2018 10:53:28        5235511             3   \n",
            "1048574       443         6  14/02/2018 10:53:28        5807256             6   \n",
            "\n",
            "         Tot Bwd Pkts  TotLen Fwd Pkts  TotLen Bwd Pkts  Fwd Pkt Len Max  \\\n",
            "0                   0                0                0                0   \n",
            "1                   0                0                0                0   \n",
            "2                   0                0                0                0   \n",
            "3                  10             1239             2273              744   \n",
            "4                  11             1143             2209              744   \n",
            "...               ...              ...              ...              ...   \n",
            "1048570             5             1089             1923              587   \n",
            "1048571             0                0                0                0   \n",
            "1048572             1                0                0                0   \n",
            "1048573             1                0                0                0   \n",
            "1048574             4              327              145              245   \n",
            "\n",
            "         Fwd Pkt Len Min  ...  Fwd Seg Size Min  Active Mean  Active Std  \\\n",
            "0                      0  ...                 0          0.0         0.0   \n",
            "1                      0  ...                 0          0.0         0.0   \n",
            "2                      0  ...                 0          0.0         0.0   \n",
            "3                      0  ...                32          0.0         0.0   \n",
            "4                      0  ...                32          0.0         0.0   \n",
            "...                  ...  ...               ...          ...         ...   \n",
            "1048570                0  ...                20          0.0         0.0   \n",
            "1048571                0  ...                20          0.0         0.0   \n",
            "1048572                0  ...                20          0.0         0.0   \n",
            "1048573                0  ...                20          0.0         0.0   \n",
            "1048574                0  ...                20     291569.0         0.0   \n",
            "\n",
            "         Active Max  Active Min   Idle Mean    Idle Std  Idle Max  Idle Min  \\\n",
            "0                 0           0  56320859.5  139.300036  56320958  56320761   \n",
            "1                 0           0  56320733.0  114.551299  56320814  56320652   \n",
            "2                 0           0  56319311.5  301.934596  56319525  56319098   \n",
            "3                 0           0         0.0    0.000000         0         0   \n",
            "4                 0           0         0.0    0.000000         0         0   \n",
            "...             ...         ...         ...         ...       ...       ...   \n",
            "1048570           0           0         0.0    0.000000         0         0   \n",
            "1048571           0           0         0.0    0.000000         0         0   \n",
            "1048572           0           0         0.0    0.000000         0         0   \n",
            "1048573           0           0         0.0    0.000000         0         0   \n",
            "1048574      291569      291569   5515650.0    0.000000   5515650   5515650   \n",
            "\n",
            "          Label  \n",
            "0        Benign  \n",
            "1        Benign  \n",
            "2        Benign  \n",
            "3        Benign  \n",
            "4        Benign  \n",
            "...         ...  \n",
            "1048570  Benign  \n",
            "1048571  Benign  \n",
            "1048572  Benign  \n",
            "1048573  Benign  \n",
            "1048574  Benign  \n",
            "\n",
            "[822947 rows x 80 columns]\n"
          ]
        }
      ]
    },
    {
      "cell_type": "code",
      "source": [
        "# Find and remove NaN values\n",
        "df_no_nan = train.dropna()\n",
        "\n",
        "# Find and remove infinity values\n",
        "train.replace([np.inf, -np.inf], np.nan, inplace=True)\n",
        "df_no_inf = train.dropna()\n",
        "\n",
        "# Display DataFrames after removing NaN and infinity values\n",
        "print(\"\\nDataFrame after removing NaN values:\")\n",
        "print(df_no_nan)\n",
        "\n",
        "print(\"\\nDataFrame after removing infinity values:\")\n",
        "print(df_no_inf)\n"
      ],
      "metadata": {
        "colab": {
          "base_uri": "https://localhost:8080/"
        },
        "id": "PY81eNtSAFmq",
        "outputId": "103eb374-add0-482c-8d63-d202af9364e4"
      },
      "execution_count": 40,
      "outputs": [
        {
          "output_type": "stream",
          "name": "stdout",
          "text": [
            "\n",
            "DataFrame after removing NaN values:\n",
            "         Dst Port  Protocol            Timestamp  Flow Duration  Tot Fwd Pkts  \\\n",
            "0               0         0  14/02/2018 08:31:01      112641719             3   \n",
            "1               0         0  14/02/2018 08:33:50      112641466             3   \n",
            "2               0         0  14/02/2018 08:36:39      112638623             3   \n",
            "3              22         6  14/02/2018 08:40:13        6453966            15   \n",
            "4              22         6  14/02/2018 08:40:23        8804066            14   \n",
            "...           ...       ...                  ...            ...           ...   \n",
            "1048570        80         6  14/02/2018 10:53:23       10156986             5   \n",
            "1048571        80         6  14/02/2018 10:53:33            117             2   \n",
            "1048572        80         6  14/02/2018 10:53:28        5095331             3   \n",
            "1048573        80         6  14/02/2018 10:53:28        5235511             3   \n",
            "1048574       443         6  14/02/2018 10:53:28        5807256             6   \n",
            "\n",
            "         Tot Bwd Pkts  TotLen Fwd Pkts  TotLen Bwd Pkts  Fwd Pkt Len Max  \\\n",
            "0                   0                0                0                0   \n",
            "1                   0                0                0                0   \n",
            "2                   0                0                0                0   \n",
            "3                  10             1239             2273              744   \n",
            "4                  11             1143             2209              744   \n",
            "...               ...              ...              ...              ...   \n",
            "1048570             5             1089             1923              587   \n",
            "1048571             0                0                0                0   \n",
            "1048572             1                0                0                0   \n",
            "1048573             1                0                0                0   \n",
            "1048574             4              327              145              245   \n",
            "\n",
            "         Fwd Pkt Len Min  ...  Fwd Seg Size Min  Active Mean  Active Std  \\\n",
            "0                      0  ...                 0          0.0         0.0   \n",
            "1                      0  ...                 0          0.0         0.0   \n",
            "2                      0  ...                 0          0.0         0.0   \n",
            "3                      0  ...                32          0.0         0.0   \n",
            "4                      0  ...                32          0.0         0.0   \n",
            "...                  ...  ...               ...          ...         ...   \n",
            "1048570                0  ...                20          0.0         0.0   \n",
            "1048571                0  ...                20          0.0         0.0   \n",
            "1048572                0  ...                20          0.0         0.0   \n",
            "1048573                0  ...                20          0.0         0.0   \n",
            "1048574                0  ...                20     291569.0         0.0   \n",
            "\n",
            "         Active Max  Active Min   Idle Mean    Idle Std  Idle Max  Idle Min  \\\n",
            "0                 0           0  56320859.5  139.300036  56320958  56320761   \n",
            "1                 0           0  56320733.0  114.551299  56320814  56320652   \n",
            "2                 0           0  56319311.5  301.934596  56319525  56319098   \n",
            "3                 0           0         0.0    0.000000         0         0   \n",
            "4                 0           0         0.0    0.000000         0         0   \n",
            "...             ...         ...         ...         ...       ...       ...   \n",
            "1048570           0           0         0.0    0.000000         0         0   \n",
            "1048571           0           0         0.0    0.000000         0         0   \n",
            "1048572           0           0         0.0    0.000000         0         0   \n",
            "1048573           0           0         0.0    0.000000         0         0   \n",
            "1048574      291569      291569   5515650.0    0.000000   5515650   5515650   \n",
            "\n",
            "          Label  \n",
            "0        Benign  \n",
            "1        Benign  \n",
            "2        Benign  \n",
            "3        Benign  \n",
            "4        Benign  \n",
            "...         ...  \n",
            "1048570  Benign  \n",
            "1048571  Benign  \n",
            "1048572  Benign  \n",
            "1048573  Benign  \n",
            "1048574  Benign  \n",
            "\n",
            "[1046298 rows x 80 columns]\n",
            "\n",
            "DataFrame after removing infinity values:\n",
            "         Dst Port  Protocol            Timestamp  Flow Duration  Tot Fwd Pkts  \\\n",
            "0               0         0  14/02/2018 08:31:01      112641719             3   \n",
            "1               0         0  14/02/2018 08:33:50      112641466             3   \n",
            "2               0         0  14/02/2018 08:36:39      112638623             3   \n",
            "3              22         6  14/02/2018 08:40:13        6453966            15   \n",
            "4              22         6  14/02/2018 08:40:23        8804066            14   \n",
            "...           ...       ...                  ...            ...           ...   \n",
            "1048570        80         6  14/02/2018 10:53:23       10156986             5   \n",
            "1048571        80         6  14/02/2018 10:53:33            117             2   \n",
            "1048572        80         6  14/02/2018 10:53:28        5095331             3   \n",
            "1048573        80         6  14/02/2018 10:53:28        5235511             3   \n",
            "1048574       443         6  14/02/2018 10:53:28        5807256             6   \n",
            "\n",
            "         Tot Bwd Pkts  TotLen Fwd Pkts  TotLen Bwd Pkts  Fwd Pkt Len Max  \\\n",
            "0                   0                0                0                0   \n",
            "1                   0                0                0                0   \n",
            "2                   0                0                0                0   \n",
            "3                  10             1239             2273              744   \n",
            "4                  11             1143             2209              744   \n",
            "...               ...              ...              ...              ...   \n",
            "1048570             5             1089             1923              587   \n",
            "1048571             0                0                0                0   \n",
            "1048572             1                0                0                0   \n",
            "1048573             1                0                0                0   \n",
            "1048574             4              327              145              245   \n",
            "\n",
            "         Fwd Pkt Len Min  ...  Fwd Seg Size Min  Active Mean  Active Std  \\\n",
            "0                      0  ...                 0          0.0         0.0   \n",
            "1                      0  ...                 0          0.0         0.0   \n",
            "2                      0  ...                 0          0.0         0.0   \n",
            "3                      0  ...                32          0.0         0.0   \n",
            "4                      0  ...                32          0.0         0.0   \n",
            "...                  ...  ...               ...          ...         ...   \n",
            "1048570                0  ...                20          0.0         0.0   \n",
            "1048571                0  ...                20          0.0         0.0   \n",
            "1048572                0  ...                20          0.0         0.0   \n",
            "1048573                0  ...                20          0.0         0.0   \n",
            "1048574                0  ...                20     291569.0         0.0   \n",
            "\n",
            "         Active Max  Active Min   Idle Mean    Idle Std  Idle Max  Idle Min  \\\n",
            "0                 0           0  56320859.5  139.300036  56320958  56320761   \n",
            "1                 0           0  56320733.0  114.551299  56320814  56320652   \n",
            "2                 0           0  56319311.5  301.934596  56319525  56319098   \n",
            "3                 0           0         0.0    0.000000         0         0   \n",
            "4                 0           0         0.0    0.000000         0         0   \n",
            "...             ...         ...         ...         ...       ...       ...   \n",
            "1048570           0           0         0.0    0.000000         0         0   \n",
            "1048571           0           0         0.0    0.000000         0         0   \n",
            "1048572           0           0         0.0    0.000000         0         0   \n",
            "1048573           0           0         0.0    0.000000         0         0   \n",
            "1048574      291569      291569   5515650.0    0.000000   5515650   5515650   \n",
            "\n",
            "          Label  \n",
            "0        Benign  \n",
            "1        Benign  \n",
            "2        Benign  \n",
            "3        Benign  \n",
            "4        Benign  \n",
            "...         ...  \n",
            "1048570  Benign  \n",
            "1048571  Benign  \n",
            "1048572  Benign  \n",
            "1048573  Benign  \n",
            "1048574  Benign  \n",
            "\n",
            "[1044751 rows x 80 columns]\n"
          ]
        }
      ]
    },
    {
      "cell_type": "code",
      "source": [
        "train.shape"
      ],
      "metadata": {
        "colab": {
          "base_uri": "https://localhost:8080/"
        },
        "id": "k45Zfxxr9ngh",
        "outputId": "1821d327-61b4-4687-c722-ef99a7b09f08"
      },
      "execution_count": 41,
      "outputs": [
        {
          "output_type": "execute_result",
          "data": {
            "text/plain": [
              "(1048575, 80)"
            ]
          },
          "metadata": {},
          "execution_count": 41
        }
      ]
    },
    {
      "cell_type": "code",
      "source": [
        "# List of unnecessary columns\n",
        "columns_to_remove = [\n",
        "    'Timestamp', 'Flow Byts/s', 'Flow Pkts/s', 'Fwd Pkts/s', 'Bwd Pkts/s',\n",
        "    'Pkt Len Var', 'Init Fwd Win Byts', 'Init Bwd Win Byts', 'Bwd Blk Rate Avg', 'CWE Flag Count'\n",
        "]\n",
        "\n",
        "# Drop unnecessary columns\n",
        "print(\"Columns before removal:\", train.columns)\n",
        "df = train.drop(columns=columns_to_remove, errors='ignore')\n",
        "print(\"Columns after removal:\", train.columns)"
      ],
      "metadata": {
        "colab": {
          "base_uri": "https://localhost:8080/"
        },
        "id": "BPl27-7VNk9u",
        "outputId": "d6950036-da09-4cef-a373-ff0ab041de78"
      },
      "execution_count": 70,
      "outputs": [
        {
          "output_type": "stream",
          "name": "stdout",
          "text": [
            "Columns before removal: Index(['Dst Port', 'Protocol', 'Timestamp', 'Flow Duration', 'Tot Fwd Pkts',\n",
            "       'Tot Bwd Pkts', 'TotLen Fwd Pkts', 'TotLen Bwd Pkts', 'Fwd Pkt Len Max',\n",
            "       'Fwd Pkt Len Min', 'Fwd Pkt Len Mean', 'Fwd Pkt Len Std',\n",
            "       'Bwd Pkt Len Max', 'Bwd Pkt Len Min', 'Bwd Pkt Len Mean',\n",
            "       'Bwd Pkt Len Std', 'Flow Byts/s', 'Flow Pkts/s', 'Flow IAT Mean',\n",
            "       'Flow IAT Std', 'Flow IAT Max', 'Flow IAT Min', 'Fwd IAT Tot',\n",
            "       'Fwd IAT Mean', 'Fwd IAT Std', 'Fwd IAT Max', 'Fwd IAT Min',\n",
            "       'Bwd IAT Tot', 'Bwd IAT Mean', 'Bwd IAT Std', 'Bwd IAT Max',\n",
            "       'Bwd IAT Min', 'Fwd PSH Flags', 'Bwd PSH Flags', 'Fwd URG Flags',\n",
            "       'Bwd URG Flags', 'Fwd Header Len', 'Bwd Header Len', 'Fwd Pkts/s',\n",
            "       'Bwd Pkts/s', 'Pkt Len Min', 'Pkt Len Max', 'Pkt Len Mean',\n",
            "       'Pkt Len Std', 'Pkt Len Var', 'FIN Flag Cnt', 'SYN Flag Cnt',\n",
            "       'RST Flag Cnt', 'PSH Flag Cnt', 'ACK Flag Cnt', 'URG Flag Cnt',\n",
            "       'CWE Flag Count', 'ECE Flag Cnt', 'Down/Up Ratio', 'Pkt Size Avg',\n",
            "       'Fwd Seg Size Avg', 'Bwd Seg Size Avg', 'Fwd Byts/b Avg',\n",
            "       'Fwd Pkts/b Avg', 'Fwd Blk Rate Avg', 'Bwd Byts/b Avg',\n",
            "       'Bwd Pkts/b Avg', 'Bwd Blk Rate Avg', 'Subflow Fwd Pkts',\n",
            "       'Subflow Fwd Byts', 'Subflow Bwd Pkts', 'Subflow Bwd Byts',\n",
            "       'Init Fwd Win Byts', 'Init Bwd Win Byts', 'Fwd Act Data Pkts',\n",
            "       'Fwd Seg Size Min', 'Active Mean', 'Active Std', 'Active Max',\n",
            "       'Active Min', 'Idle Mean', 'Idle Std', 'Idle Max', 'Idle Min', 'Label'],\n",
            "      dtype='object')\n",
            "Columns after removal: Index(['Dst Port', 'Protocol', 'Timestamp', 'Flow Duration', 'Tot Fwd Pkts',\n",
            "       'Tot Bwd Pkts', 'TotLen Fwd Pkts', 'TotLen Bwd Pkts', 'Fwd Pkt Len Max',\n",
            "       'Fwd Pkt Len Min', 'Fwd Pkt Len Mean', 'Fwd Pkt Len Std',\n",
            "       'Bwd Pkt Len Max', 'Bwd Pkt Len Min', 'Bwd Pkt Len Mean',\n",
            "       'Bwd Pkt Len Std', 'Flow Byts/s', 'Flow Pkts/s', 'Flow IAT Mean',\n",
            "       'Flow IAT Std', 'Flow IAT Max', 'Flow IAT Min', 'Fwd IAT Tot',\n",
            "       'Fwd IAT Mean', 'Fwd IAT Std', 'Fwd IAT Max', 'Fwd IAT Min',\n",
            "       'Bwd IAT Tot', 'Bwd IAT Mean', 'Bwd IAT Std', 'Bwd IAT Max',\n",
            "       'Bwd IAT Min', 'Fwd PSH Flags', 'Bwd PSH Flags', 'Fwd URG Flags',\n",
            "       'Bwd URG Flags', 'Fwd Header Len', 'Bwd Header Len', 'Fwd Pkts/s',\n",
            "       'Bwd Pkts/s', 'Pkt Len Min', 'Pkt Len Max', 'Pkt Len Mean',\n",
            "       'Pkt Len Std', 'Pkt Len Var', 'FIN Flag Cnt', 'SYN Flag Cnt',\n",
            "       'RST Flag Cnt', 'PSH Flag Cnt', 'ACK Flag Cnt', 'URG Flag Cnt',\n",
            "       'CWE Flag Count', 'ECE Flag Cnt', 'Down/Up Ratio', 'Pkt Size Avg',\n",
            "       'Fwd Seg Size Avg', 'Bwd Seg Size Avg', 'Fwd Byts/b Avg',\n",
            "       'Fwd Pkts/b Avg', 'Fwd Blk Rate Avg', 'Bwd Byts/b Avg',\n",
            "       'Bwd Pkts/b Avg', 'Bwd Blk Rate Avg', 'Subflow Fwd Pkts',\n",
            "       'Subflow Fwd Byts', 'Subflow Bwd Pkts', 'Subflow Bwd Byts',\n",
            "       'Init Fwd Win Byts', 'Init Bwd Win Byts', 'Fwd Act Data Pkts',\n",
            "       'Fwd Seg Size Min', 'Active Mean', 'Active Std', 'Active Max',\n",
            "       'Active Min', 'Idle Mean', 'Idle Std', 'Idle Max', 'Idle Min', 'Label'],\n",
            "      dtype='object')\n"
          ]
        }
      ]
    },
    {
      "cell_type": "code",
      "source": [
        "train.info()"
      ],
      "metadata": {
        "colab": {
          "base_uri": "https://localhost:8080/"
        },
        "id": "1usbC7kuN85t",
        "outputId": "1683390f-c1c8-4563-fb21-608b0356c92b"
      },
      "execution_count": 68,
      "outputs": [
        {
          "output_type": "stream",
          "name": "stdout",
          "text": [
            "<class 'pandas.core.frame.DataFrame'>\n",
            "RangeIndex: 1048575 entries, 0 to 1048574\n",
            "Data columns (total 80 columns):\n",
            " #   Column             Non-Null Count    Dtype  \n",
            "---  ------             --------------    -----  \n",
            " 0   Dst Port           1048575 non-null  int64  \n",
            " 1   Protocol           1048575 non-null  int64  \n",
            " 2   Timestamp          1048575 non-null  int64  \n",
            " 3   Flow Duration      1048575 non-null  int64  \n",
            " 4   Tot Fwd Pkts       1048575 non-null  int64  \n",
            " 5   Tot Bwd Pkts       1048575 non-null  int64  \n",
            " 6   TotLen Fwd Pkts    1048575 non-null  int64  \n",
            " 7   TotLen Bwd Pkts    1048575 non-null  int64  \n",
            " 8   Fwd Pkt Len Max    1048575 non-null  int64  \n",
            " 9   Fwd Pkt Len Min    1048575 non-null  int64  \n",
            " 10  Fwd Pkt Len Mean   1048575 non-null  float64\n",
            " 11  Fwd Pkt Len Std    1048575 non-null  float64\n",
            " 12  Bwd Pkt Len Max    1048575 non-null  int64  \n",
            " 13  Bwd Pkt Len Min    1048575 non-null  int64  \n",
            " 14  Bwd Pkt Len Mean   1048575 non-null  float64\n",
            " 15  Bwd Pkt Len Std    1048575 non-null  float64\n",
            " 16  Flow Byts/s        1044751 non-null  float64\n",
            " 17  Flow Pkts/s        1044751 non-null  float64\n",
            " 18  Flow IAT Mean      1048575 non-null  float64\n",
            " 19  Flow IAT Std       1048575 non-null  float64\n",
            " 20  Flow IAT Max       1048575 non-null  int64  \n",
            " 21  Flow IAT Min       1048575 non-null  int64  \n",
            " 22  Fwd IAT Tot        1048575 non-null  int64  \n",
            " 23  Fwd IAT Mean       1048575 non-null  float64\n",
            " 24  Fwd IAT Std        1048575 non-null  float64\n",
            " 25  Fwd IAT Max        1048575 non-null  int64  \n",
            " 26  Fwd IAT Min        1048575 non-null  int64  \n",
            " 27  Bwd IAT Tot        1048575 non-null  int64  \n",
            " 28  Bwd IAT Mean       1048575 non-null  float64\n",
            " 29  Bwd IAT Std        1048575 non-null  float64\n",
            " 30  Bwd IAT Max        1048575 non-null  int64  \n",
            " 31  Bwd IAT Min        1048575 non-null  int64  \n",
            " 32  Fwd PSH Flags      1048575 non-null  int64  \n",
            " 33  Bwd PSH Flags      1048575 non-null  int64  \n",
            " 34  Fwd URG Flags      1048575 non-null  int64  \n",
            " 35  Bwd URG Flags      1048575 non-null  int64  \n",
            " 36  Fwd Header Len     1048575 non-null  int64  \n",
            " 37  Bwd Header Len     1048575 non-null  int64  \n",
            " 38  Fwd Pkts/s         1048575 non-null  float64\n",
            " 39  Bwd Pkts/s         1048575 non-null  float64\n",
            " 40  Pkt Len Min        1048575 non-null  int64  \n",
            " 41  Pkt Len Max        1048575 non-null  int64  \n",
            " 42  Pkt Len Mean       1048575 non-null  float64\n",
            " 43  Pkt Len Std        1048575 non-null  float64\n",
            " 44  Pkt Len Var        1048575 non-null  float64\n",
            " 45  FIN Flag Cnt       1048575 non-null  int64  \n",
            " 46  SYN Flag Cnt       1048575 non-null  int64  \n",
            " 47  RST Flag Cnt       1048575 non-null  int64  \n",
            " 48  PSH Flag Cnt       1048575 non-null  int64  \n",
            " 49  ACK Flag Cnt       1048575 non-null  int64  \n",
            " 50  URG Flag Cnt       1048575 non-null  int64  \n",
            " 51  CWE Flag Count     1048575 non-null  int64  \n",
            " 52  ECE Flag Cnt       1048575 non-null  int64  \n",
            " 53  Down/Up Ratio      1048575 non-null  int64  \n",
            " 54  Pkt Size Avg       1048575 non-null  float64\n",
            " 55  Fwd Seg Size Avg   1048575 non-null  float64\n",
            " 56  Bwd Seg Size Avg   1048575 non-null  float64\n",
            " 57  Fwd Byts/b Avg     1048575 non-null  int64  \n",
            " 58  Fwd Pkts/b Avg     1048575 non-null  int64  \n",
            " 59  Fwd Blk Rate Avg   1048575 non-null  int64  \n",
            " 60  Bwd Byts/b Avg     1048575 non-null  int64  \n",
            " 61  Bwd Pkts/b Avg     1048575 non-null  int64  \n",
            " 62  Bwd Blk Rate Avg   1048575 non-null  int64  \n",
            " 63  Subflow Fwd Pkts   1048575 non-null  int64  \n",
            " 64  Subflow Fwd Byts   1048575 non-null  int64  \n",
            " 65  Subflow Bwd Pkts   1048575 non-null  int64  \n",
            " 66  Subflow Bwd Byts   1048575 non-null  int64  \n",
            " 67  Init Fwd Win Byts  1048575 non-null  int64  \n",
            " 68  Init Bwd Win Byts  1048575 non-null  int64  \n",
            " 69  Fwd Act Data Pkts  1048575 non-null  int64  \n",
            " 70  Fwd Seg Size Min   1048575 non-null  int64  \n",
            " 71  Active Mean        1048575 non-null  float64\n",
            " 72  Active Std         1048575 non-null  float64\n",
            " 73  Active Max         1048575 non-null  int64  \n",
            " 74  Active Min         1048575 non-null  int64  \n",
            " 75  Idle Mean          1048575 non-null  float64\n",
            " 76  Idle Std           1048575 non-null  float64\n",
            " 77  Idle Max           1048575 non-null  int64  \n",
            " 78  Idle Min           1048575 non-null  int64  \n",
            " 79  Label              1048575 non-null  int64  \n",
            "dtypes: float64(24), int64(56)\n",
            "memory usage: 640.0 MB\n"
          ]
        }
      ]
    },
    {
      "cell_type": "code",
      "source": [
        "sns.countplot(x=train['Label'])"
      ],
      "metadata": {
        "colab": {
          "base_uri": "https://localhost:8080/",
          "height": 471
        },
        "id": "uj9trwqVXwm4",
        "outputId": "dcccebd8-d185-4f72-a487-05e8fa085a48"
      },
      "execution_count": 60,
      "outputs": [
        {
          "output_type": "execute_result",
          "data": {
            "text/plain": [
              "<Axes: xlabel='Label', ylabel='count'>"
            ]
          },
          "metadata": {},
          "execution_count": 60
        },
        {
          "output_type": "display_data",
          "data": {
            "text/plain": [
              "<Figure size 640x480 with 1 Axes>"
            ],
            "image/png": "[encoded data removed]"
          },
          "metadata": {}
        }
      ]
    },
    {
      "cell_type": "code",
      "source": [
        "print('Class distribution Training set:')\n",
        "print(train['Label'].value_counts())"
      ],
      "metadata": {
        "colab": {
          "base_uri": "https://localhost:8080/"
        },
        "id": "2G7UNf5kXzs_",
        "outputId": "19c45d8f-1c0a-4d2c-ca66-fc8b19b0adfb"
      },
      "execution_count": 61,
      "outputs": [
        {
          "output_type": "stream",
          "name": "stdout",
          "text": [
            "Class distribution Training set:\n",
            "0    667626\n",
            "1    193360\n",
            "2    187589\n",
            "Name: Label, dtype: int64\n"
          ]
        }
      ]
    },
    {
      "cell_type": "code",
      "source": [
        "def le(df):\n",
        "    for col in df.columns:\n",
        "        if df[col].dtype == 'object':\n",
        "                label_encoder = LabelEncoder()\n",
        "                df[col] = label_encoder.fit_transform(df[col])\n",
        "\n",
        "le(train)"
      ],
      "metadata": {
        "id": "olhTH81FX-Z1"
      },
      "execution_count": 62,
      "outputs": []
    },
    {
      "cell_type": "code",
      "source": [
        "# train.drop(['num_outbound_cmds'], axis=1, inplace=True)\n",
        "# test.drop(['num_outbound_cmds'], axis=1, inplace=True)"
      ],
      "metadata": {
        "id": "nRdQOa_oYFnz"
      },
      "execution_count": 63,
      "outputs": []
    },
    {
      "cell_type": "code",
      "source": [
        "train.head()"
      ],
      "metadata": {
        "colab": {
          "base_uri": "https://localhost:8080/",
          "height": 307
        },
        "id": "3Llgls-MYNI6",
        "outputId": "afd7bfe1-3ce4-4bfc-d042-9fbff8ed4486"
      },
      "execution_count": 64,
      "outputs": [
        {
          "output_type": "execute_result",
          "data": {
            "text/plain": [
              "   Dst Port  Protocol  Timestamp  Flow Duration  Tot Fwd Pkts  Tot Bwd Pkts  \\\n",
              "0         0         0      15905      112641719             3             0   \n",
              "1         0         0      16074      112641466             3             0   \n",
              "2         0         0      16243      112638623             3             0   \n",
              "3        22         6      16457        6453966            15            10   \n",
              "4        22         6      16467        8804066            14            11   \n",
              "\n",
              "   TotLen Fwd Pkts  TotLen Bwd Pkts  Fwd Pkt Len Max  Fwd Pkt Len Min  ...  \\\n",
              "0                0                0                0                0  ...   \n",
              "1                0                0                0                0  ...   \n",
              "2                0                0                0                0  ...   \n",
              "3             1239             2273              744                0  ...   \n",
              "4             1143             2209              744                0  ...   \n",
              "\n",
              "   Fwd Seg Size Min  Active Mean  Active Std  Active Max  Active Min  \\\n",
              "0                 0          0.0         0.0           0           0   \n",
              "1                 0          0.0         0.0           0           0   \n",
              "2                 0          0.0         0.0           0           0   \n",
              "3                32          0.0         0.0           0           0   \n",
              "4                32          0.0         0.0           0           0   \n",
              "\n",
              "    Idle Mean    Idle Std  Idle Max  Idle Min  Label  \n",
              "0  56320859.5  139.300036  56320958  56320761      0  \n",
              "1  56320733.0  114.551299  56320814  56320652      0  \n",
              "2  56319311.5  301.934596  56319525  56319098      0  \n",
              "3         0.0    0.000000         0         0      0  \n",
              "4         0.0    0.000000         0         0      0  \n",
              "\n",
              "[5 rows x 80 columns]"
            ],
            "text/html": [
              "\n",
              "  <div id=\"df-bd851fec-07dd-4ece-8628-fac8aace9266\" class=\"colab-df-container\">\n",
              "    <div>\n",
              "<style scoped>\n",
              "    .dataframe tbody tr th:only-of-type {\n",
              "        vertical-align: middle;\n",
              "    }\n",
              "\n",
              "    .dataframe tbody tr th {\n",
              "        vertical-align: top;\n",
              "    }\n",
              "\n",
              "    .dataframe thead th {\n",
              "        text-align: right;\n",
              "    }\n",
              "</style>\n",
              "<table border=\"1\" class=\"dataframe\">\n",
              "  <thead>\n",
              "    <tr style=\"text-align: right;\">\n",
              "      <th></th>\n",
              "      <th>Dst Port</th>\n",
              "      <th>Protocol</th>\n",
              "      <th>Timestamp</th>\n",
              "      <th>Flow Duration</th>\n",
              "      <th>Tot Fwd Pkts</th>\n",
              "      <th>Tot Bwd Pkts</th>\n",
              "      <th>TotLen Fwd Pkts</th>\n",
              "      <th>TotLen Bwd Pkts</th>\n",
              "      <th>Fwd Pkt Len Max</th>\n",
              "      <th>Fwd Pkt Len Min</th>\n",
              "      <th>...</th>\n",
              "      <th>Fwd Seg Size Min</th>\n",
              "      <th>Active Mean</th>\n",
              "      <th>Active Std</th>\n",
              "      <th>Active Max</th>\n",
              "      <th>Active Min</th>\n",
              "      <th>Idle Mean</th>\n",
              "      <th>Idle Std</th>\n",
              "      <th>Idle Max</th>\n",
              "      <th>Idle Min</th>\n",
              "      <th>Label</th>\n",
              "    </tr>\n",
              "  </thead>\n",
              "  <tbody>\n",
              "    <tr>\n",
              "      <th>0</th>\n",
              "      <td>0</td>\n",
              "      <td>0</td>\n",
              "      <td>15905</td>\n",
              "      <td>112641719</td>\n",
              "      <td>3</td>\n",
              "      <td>0</td>\n",
              "      <td>0</td>\n",
              "      <td>0</td>\n",
              "      <td>0</td>\n",
              "      <td>0</td>\n",
              "      <td>...</td>\n",
              "      <td>0</td>\n",
              "      <td>0.0</td>\n",
              "      <td>0.0</td>\n",
              "      <td>0</td>\n",
              "      <td>0</td>\n",
              "      <td>56320859.5</td>\n",
              "      <td>139.300036</td>\n",
              "      <td>56320958</td>\n",
              "      <td>56320761</td>\n",
              "      <td>0</td>\n",
              "    </tr>\n",
              "    <tr>\n",
              "      <th>1</th>\n",
              "      <td>0</td>\n",
              "      <td>0</td>\n",
              "      <td>16074</td>\n",
              "      <td>112641466</td>\n",
              "      <td>3</td>\n",
              "      <td>0</td>\n",
              "      <td>0</td>\n",
              "      <td>0</td>\n",
              "      <td>0</td>\n",
              "      <td>0</td>\n",
              "      <td>...</td>\n",
              "      <td>0</td>\n",
              "      <td>0.0</td>\n",
              "      <td>0.0</td>\n",
              "      <td>0</td>\n",
              "      <td>0</td>\n",
              "      <td>56320733.0</td>\n",
              "      <td>114.551299</td>\n",
              "      <td>56320814</td>\n",
              "      <td>56320652</td>\n",
              "      <td>0</td>\n",
              "    </tr>\n",
              "    <tr>\n",
              "      <th>2</th>\n",
              "      <td>0</td>\n",
              "      <td>0</td>\n",
              "      <td>16243</td>\n",
              "      <td>112638623</td>\n",
              "      <td>3</td>\n",
              "      <td>0</td>\n",
              "      <td>0</td>\n",
              "      <td>0</td>\n",
              "      <td>0</td>\n",
              "      <td>0</td>\n",
              "      <td>...</td>\n",
              "      <td>0</td>\n",
              "      <td>0.0</td>\n",
              "      <td>0.0</td>\n",
              "      <td>0</td>\n",
              "      <td>0</td>\n",
              "      <td>56319311.5</td>\n",
              "      <td>301.934596</td>\n",
              "      <td>56319525</td>\n",
              "      <td>56319098</td>\n",
              "      <td>0</td>\n",
              "    </tr>\n",
              "    <tr>\n",
              "      <th>3</th>\n",
              "      <td>22</td>\n",
              "      <td>6</td>\n",
              "      <td>16457</td>\n",
              "      <td>6453966</td>\n",
              "      <td>15</td>\n",
              "      <td>10</td>\n",
              "      <td>1239</td>\n",
              "      <td>2273</td>\n",
              "      <td>744</td>\n",
              "      <td>0</td>\n",
              "      <td>...</td>\n",
              "      <td>32</td>\n",
              "      <td>0.0</td>\n",
              "      <td>0.0</td>\n",
              "      <td>0</td>\n",
              "      <td>0</td>\n",
              "      <td>0.0</td>\n",
              "      <td>0.000000</td>\n",
              "      <td>0</td>\n",
              "      <td>0</td>\n",
              "      <td>0</td>\n",
              "    </tr>\n",
              "    <tr>\n",
              "      <th>4</th>\n",
              "      <td>22</td>\n",
              "      <td>6</td>\n",
              "      <td>16467</td>\n",
              "      <td>8804066</td>\n",
              "      <td>14</td>\n",
              "      <td>11</td>\n",
              "      <td>1143</td>\n",
              "      <td>2209</td>\n",
              "      <td>744</td>\n",
              "      <td>0</td>\n",
              "      <td>...</td>\n",
              "      <td>32</td>\n",
              "      <td>0.0</td>\n",
              "      <td>0.0</td>\n",
              "      <td>0</td>\n",
              "      <td>0</td>\n",
              "      <td>0.0</td>\n",
              "      <td>0.000000</td>\n",
              "      <td>0</td>\n",
              "      <td>0</td>\n",
              "      <td>0</td>\n",
              "    </tr>\n",
              "  </tbody>\n",
              "</table>\n",
              "<p>5 rows × 80 columns</p>\n",
              "</div>\n",
              "    <div class=\"colab-df-buttons\">\n",
              "\n",
              "  <div class=\"colab-df-container\">\n",
              "    <button class=\"colab-df-convert\" onclick=\"convertToInteractive('df-bd851fec-07dd-4ece-8628-fac8aace9266')\"\n",
              "            title=\"Convert this dataframe to an interactive table.\"\n",
              "            style=\"display:none;\">\n",
              "\n",
              "  <svg xmlns=\"http://www.w3.org/2000/svg\" height=\"24px\" viewBox=\"0 -960 960 960\">\n",
              "    <path d=\"M120-120v-720h720v720H120Zm60-500h600v-160H180v160Zm220 220h160v-160H400v160Zm0 220h160v-160H400v160ZM180-400h160v-160H180v160Zm440 0h160v-160H620v160ZM180-180h160v-160H180v160Zm440 0h160v-160H620v160Z\"/>\n",
              "  </svg>\n",
              "    </button>\n",
              "\n",
              "  <style>\n",
              "    .colab-df-container {\n",
              "      display:flex;\n",
              "      gap: 12px;\n",
              "    }\n",
              "\n",
              "    .colab-df-convert {\n",
              "      background-color: #E8F0FE;\n",
              "      border: none;\n",
              "      border-radius: 50%;\n",
              "      cursor: pointer;\n",
              "      display: none;\n",
              "      fill: #1967D2;\n",
              "      height: 32px;\n",
              "      padding: 0 0 0 0;\n",
              "      width: 32px;\n",
              "    }\n",
              "\n",
              "    .colab-df-convert:hover {\n",
              "      background-color: #E2EBFA;\n",
              "      box-shadow: 0px 1px 2px rgba(60, 64, 67, 0.3), 0px 1px 3px 1px rgba(60, 64, 67, 0.15);\n",
              "      fill: #174EA6;\n",
              "    }\n",
              "\n",
              "    .colab-df-buttons div {\n",
              "      margin-bottom: 4px;\n",
              "    }\n",
              "\n",
              "    [theme=dark] .colab-df-convert {\n",
              "      background-color: #3B4455;\n",
              "      fill: #D2E3FC;\n",
              "    }\n",
              "\n",
              "    [theme=dark] .colab-df-convert:hover {\n",
              "      background-color: #434B5C;\n",
              "      box-shadow: 0px 1px 3px 1px rgba(0, 0, 0, 0.15);\n",
              "      filter: drop-shadow(0px 1px 2px rgba(0, 0, 0, 0.3));\n",
              "      fill: #FFFFFF;\n",
              "    }\n",
              "  </style>\n",
              "\n",
              "    <script>\n",
              "      const buttonEl =\n",
              "        document.querySelector('#df-bd851fec-07dd-4ece-8628-fac8aace9266 button.colab-df-convert');\n",
              "      buttonEl.style.display =\n",
              "        google.colab.kernel.accessAllowed ? 'block' : 'none';\n",
              "\n",
              "      async function convertToInteractive(key) {\n",
              "        const element = document.querySelector('#df-bd851fec-07dd-4ece-8628-fac8aace9266');\n",
              "        const dataTable =\n",
              "          await google.colab.kernel.invokeFunction('convertToInteractive',\n",
              "                                                    [key], {});\n",
              "        if (!dataTable) return;\n",
              "\n",
              "        const docLinkHtml = 'Like what you see? Visit the ' +\n",
              "          '<a target=\"_blank\" href=https://colab.research.google.com/notebooks/data_table.ipynb>data table notebook</a>'\n",
              "          + ' to learn more about interactive tables.';\n",
              "        element.innerHTML = '';\n",
              "        dataTable['output_type'] = 'display_data';\n",
              "        await google.colab.output.renderOutput(dataTable, element);\n",
              "        const docLink = document.createElement('div');\n",
              "        docLink.innerHTML = docLinkHtml;\n",
              "        element.appendChild(docLink);\n",
              "      }\n",
              "    </script>\n",
              "  </div>\n",
              "\n",
              "\n",
              "<div id=\"df-be2114b3-b4a9-4051-8a2b-9fff77a0efe9\">\n",
              "  <button class=\"colab-df-quickchart\" onclick=\"quickchart('df-be2114b3-b4a9-4051-8a2b-9fff77a0efe9')\"\n",
              "            title=\"Suggest charts\"\n",
              "            style=\"display:none;\">\n",
              "\n",
              "<svg xmlns=\"http://www.w3.org/2000/svg\" height=\"24px\"viewBox=\"0 0 24 24\"\n",
              "     width=\"24px\">\n",
              "    <g>\n",
              "        <path d=\"M19 3H5c-1.1 0-2 .9-2 2v14c0 1.1.9 2 2 2h14c1.1 0 2-.9 2-2V5c0-1.1-.9-2-2-2zM9 17H7v-7h2v7zm4 0h-2V7h2v10zm4 0h-2v-4h2v4z\"/>\n",
              "    </g>\n",
              "</svg>\n",
              "  </button>\n",
              "\n",
              "<style>\n",
              "  .colab-df-quickchart {\n",
              "      --bg-color: #E8F0FE;\n",
              "      --fill-color: #1967D2;\n",
              "      --hover-bg-color: #E2EBFA;\n",
              "      --hover-fill-color: #174EA6;\n",
              "      --disabled-fill-color: #AAA;\n",
              "      --disabled-bg-color: #DDD;\n",
              "  }\n",
              "\n",
              "  [theme=dark] .colab-df-quickchart {\n",
              "      --bg-color: #3B4455;\n",
              "      --fill-color: #D2E3FC;\n",
              "      --hover-bg-color: #434B5C;\n",
              "      --hover-fill-color: #FFFFFF;\n",
              "      --disabled-bg-color: #3B4455;\n",
              "      --disabled-fill-color: #666;\n",
              "  }\n",
              "\n",
              "  .colab-df-quickchart {\n",
              "    background-color: var(--bg-color);\n",
              "    border: none;\n",
              "    border-radius: 50%;\n",
              "    cursor: pointer;\n",
              "    display: none;\n",
              "    fill: var(--fill-color);\n",
              "    height: 32px;\n",
              "    padding: 0;\n",
              "    width: 32px;\n",
              "  }\n",
              "\n",
              "  .colab-df-quickchart:hover {\n",
              "    background-color: var(--hover-bg-color);\n",
              "    box-shadow: 0 1px 2px rgba(60, 64, 67, 0.3), 0 1px 3px 1px rgba(60, 64, 67, 0.15);\n",
              "    fill: var(--button-hover-fill-color);\n",
              "  }\n",
              "\n",
              "  .colab-df-quickchart-complete:disabled,\n",
              "  .colab-df-quickchart-complete:disabled:hover {\n",
              "    background-color: var(--disabled-bg-color);\n",
              "    fill: var(--disabled-fill-color);\n",
              "    box-shadow: none;\n",
              "  }\n",
              "\n",
              "  .colab-df-spinner {\n",
              "    border: 2px solid var(--fill-color);\n",
              "    border-color: transparent;\n",
              "    border-bottom-color: var(--fill-color);\n",
              "    animation:\n",
              "      spin 1s steps(1) infinite;\n",
              "  }\n",
              "\n",
              "  @keyframes spin {\n",
              "    0% {\n",
              "      border-color: transparent;\n",
              "      border-bottom-color: var(--fill-color);\n",
              "      border-left-color: var(--fill-color);\n",
              "    }\n",
              "    20% {\n",
              "      border-color: transparent;\n",
              "      border-left-color: var(--fill-color);\n",
              "      border-top-color: var(--fill-color);\n",
              "    }\n",
              "    30% {\n",
              "      border-color: transparent;\n",
              "      border-left-color: var(--fill-color);\n",
              "      border-top-color: var(--fill-color);\n",
              "      border-right-color: var(--fill-color);\n",
              "    }\n",
              "    40% {\n",
              "      border-color: transparent;\n",
              "      border-right-color: var(--fill-color);\n",
              "      border-top-color: var(--fill-color);\n",
              "    }\n",
              "    60% {\n",
              "      border-color: transparent;\n",
              "      border-right-color: var(--fill-color);\n",
              "    }\n",
              "    80% {\n",
              "      border-color: transparent;\n",
              "      border-right-color: var(--fill-color);\n",
              "      border-bottom-color: var(--fill-color);\n",
              "    }\n",
              "    90% {\n",
              "      border-color: transparent;\n",
              "      border-bottom-color: var(--fill-color);\n",
              "    }\n",
              "  }\n",
              "</style>\n",
              "\n",
              "  <script>\n",
              "    async function quickchart(key) {\n",
              "      const quickchartButtonEl =\n",
              "        document.querySelector('#' + key + ' button');\n",
              "      quickchartButtonEl.disabled = true;  // To prevent multiple clicks.\n",
              "      quickchartButtonEl.classList.add('colab-df-spinner');\n",
              "      try {\n",
              "        const charts = await google.colab.kernel.invokeFunction(\n",
              "            'suggestCharts', [key], {});\n",
              "      } catch (error) {\n",
              "        console.error('Error during call to suggestCharts:', error);\n",
              "      }\n",
              "      quickchartButtonEl.classList.remove('colab-df-spinner');\n",
              "      quickchartButtonEl.classList.add('colab-df-quickchart-complete');\n",
              "    }\n",
              "    (() => {\n",
              "      let quickchartButtonEl =\n",
              "        document.querySelector('#df-be2114b3-b4a9-4051-8a2b-9fff77a0efe9 button');\n",
              "      quickchartButtonEl.style.display =\n",
              "        google.colab.kernel.accessAllowed ? 'block' : 'none';\n",
              "    })();\n",
              "  </script>\n",
              "</div>\n",
              "    </div>\n",
              "  </div>\n"
            ]
          },
          "metadata": {},
          "execution_count": 64
        }
      ]
    },
    {
      "cell_type": "code",
      "source": [
        "Y_train = train[['Label']]\n",
        "X_train = train.drop(['Label'], axis=1)\n",
        "\n",
        "Y_train.shape"
      ],
      "metadata": {
        "id": "zuVw9xGiYRlT",
        "colab": {
          "base_uri": "https://localhost:8080/"
        },
        "outputId": "6de0a0cc-b676-41b8-e243-0fdbbbe27714"
      },
      "execution_count": 65,
      "outputs": [
        {
          "output_type": "execute_result",
          "data": {
            "text/plain": [
              "(1048575, 1)"
            ]
          },
          "metadata": {},
          "execution_count": 65
        }
      ]
    },
    {
      "cell_type": "code",
      "source": [
        "from keras.utils import to_categorical\n",
        "\n",
        "# Assuming y is your label column\n",
        "y_one_hot = to_categorical(Y_train, num_classes=3)"
      ],
      "metadata": {
        "id": "1sG8Y-hFKRVw"
      },
      "execution_count": 66,
      "outputs": []
    },
    {
      "cell_type": "code",
      "source": [
        "print(\"Shape of x_train:\", X_train.shape)\n",
        "print(\"Shape of y_train_one_hot:\", y_one_hot.shape)\n",
        "print(\"Sample labels in y_train_one_hot:\", y_one_hot[:5])"
      ],
      "metadata": {
        "colab": {
          "base_uri": "https://localhost:8080/"
        },
        "id": "saac-1sSKvaG",
        "outputId": "0810f3e7-a320-4632-a068-e70ec5cf11c7"
      },
      "execution_count": 49,
      "outputs": [
        {
          "output_type": "stream",
          "name": "stdout",
          "text": [
            "Shape of x_train: (1048575, 79)\n",
            "Shape of y_train_one_hot: (1048575, 3)\n",
            "Sample labels in y_train_one_hot: [[1. 0. 0.]\n",
            " [1. 0. 0.]\n",
            " [1. 0. 0.]\n",
            " [1. 0. 0.]\n",
            " [1. 0. 0.]]\n"
          ]
        }
      ]
    },
    {
      "cell_type": "markdown",
      "source": [
        "Using Artificial Neural Network layers to solve the binary classification problem"
      ],
      "metadata": {
        "id": "PMiF04IXew9w"
      }
    },
    {
      "cell_type": "code",
      "source": [
        "scale = StandardScaler()\n",
        "X_train = scale.fit_transform(X_train)\n",
        "# test = scale.fit_transform(test)"
      ],
      "metadata": {
        "id": "aYhnr0-_hkTQ"
      },
      "execution_count": 50,
      "outputs": []
    },
    {
      "cell_type": "code",
      "source": [
        "x_train, x_test, y_train, y_test = train_test_split(X_train, y_one_hot, train_size=0.70, random_state=2)"
      ],
      "metadata": {
        "id": "Fo_Ohs_UhleG"
      },
      "execution_count": 51,
      "outputs": []
    },
    {
      "cell_type": "code",
      "source": [
        "x_train.shape"
      ],
      "metadata": {
        "colab": {
          "base_uri": "https://localhost:8080/"
        },
        "id": "1Z-UCb2Oh9DK",
        "outputId": "33474a45-1889-499e-e4ea-66d16a81fe18"
      },
      "execution_count": 52,
      "outputs": [
        {
          "output_type": "execute_result",
          "data": {
            "text/plain": [
              "(734002, 79)"
            ]
          },
          "metadata": {},
          "execution_count": 52
        }
      ]
    },
    {
      "cell_type": "code",
      "source": [
        "x_test.shape"
      ],
      "metadata": {
        "colab": {
          "base_uri": "https://localhost:8080/"
        },
        "id": "68O_iLdvh-qg",
        "outputId": "78d25c1e-bd77-4277-887a-00723395c2e0"
      },
      "execution_count": 53,
      "outputs": [
        {
          "output_type": "execute_result",
          "data": {
            "text/plain": [
              "(314573, 79)"
            ]
          },
          "metadata": {},
          "execution_count": 53
        }
      ]
    },
    {
      "cell_type": "code",
      "source": [
        "y_train.shape"
      ],
      "metadata": {
        "colab": {
          "base_uri": "https://localhost:8080/"
        },
        "id": "YOEB-mrqiAVr",
        "outputId": "84b75876-3986-46b7-e2fc-e53e508a85d1"
      },
      "execution_count": 54,
      "outputs": [
        {
          "output_type": "execute_result",
          "data": {
            "text/plain": [
              "(734002, 3)"
            ]
          },
          "metadata": {},
          "execution_count": 54
        }
      ]
    },
    {
      "cell_type": "code",
      "source": [
        "y_test.shape"
      ],
      "metadata": {
        "colab": {
          "base_uri": "https://localhost:8080/"
        },
        "id": "JhYyDkS2ht1f",
        "outputId": "8c3f30f4-f27d-4b87-9fdd-3acaf2e55a30"
      },
      "execution_count": 55,
      "outputs": [
        {
          "output_type": "execute_result",
          "data": {
            "text/plain": [
              "(314573, 3)"
            ]
          },
          "metadata": {},
          "execution_count": 55
        }
      ]
    },
    {
      "cell_type": "markdown",
      "source": [
        "Gaussian Naive Bayes"
      ],
      "metadata": {
        "id": "ONt_NRvMNF2Q"
      }
    },
    {
      "cell_type": "code",
      "source": [
        "\n",
        "# Create a Sequential model\n",
        "model = Sequential()\n",
        "\n",
        "# # Input layer\n",
        "# model.add(Dense(units=128, activation='relu', input_shape=(40,)))\n",
        "\n",
        "# # Hidden layers\n",
        "# model.add(Dense(units=64, activation='relu'))\n",
        "# model.add(BatchNormalization())\n",
        "# model.add(Dense(units=32, activation='relu'))\n",
        "# model.add(BatchNormalization())\n",
        "# model.add(Dense(units=16, activation='relu'))\n",
        "# model.add(BatchNormalization())\n",
        "\n",
        "# # Output layer\n",
        "# model.add(Dense(units=1, activation='sigmoid'))\n",
        "\n",
        "# # Use a learning rate scheduler\n",
        "# reduce_lr = ReduceLROnPlateau(monitor='val_loss', factor=0.2, patience=3, min_lr=0.0001)\n",
        "# # Compile the model with the Adam optimizer and a lower learning rate\n",
        "# model.compile(optimizer=Adam(learning_rate=0.001), loss='binary_crossentropy', metrics=['accuracy'])\n",
        "\n",
        "\n",
        "model.add(Dense(units=150, activation='relu', input_shape=(79,)))\n",
        "# First hidden layer\n",
        "model.add(Dense(units=79, activation='relu'))\n",
        "model.add(BatchNormalization())\n",
        "# Second hidden layer\n",
        "model.add(Dense(units=40, activation='relu'))\n",
        "model.add(BatchNormalization())\n",
        "# Third hidden layer\n",
        "model.add(Dense(units=20, activation='relu'))\n",
        "model.add(BatchNormalization())\n",
        "# Output layer\n",
        "model.add(Dense(units=3, activation='softmax'))\n",
        "\n",
        "# Compile the model\n",
        "model.compile(optimizer=Adam(learning_rate=0.001), loss='categorical_crossentropy', metrics=['accuracy'])\n",
        "\n",
        "# Print model summary to see the architecture and parameters\n",
        "model.summary()\n"
      ],
      "metadata": {
        "colab": {
          "base_uri": "https://localhost:8080/"
        },
        "id": "l7wSNXEGYZts",
        "outputId": "28854d67-4e26-48a3-d0f1-6977ad896adb"
      },
      "execution_count": 56,
      "outputs": [
        {
          "output_type": "stream",
          "name": "stdout",
          "text": [
            "Model: \"sequential_1\"\n",
            "_________________________________________________________________\n",
            " Layer (type)                Output Shape              Param #   \n",
            "=================================================================\n",
            " dense_5 (Dense)             (None, 150)               12000     \n",
            "                                                                 \n",
            " dense_6 (Dense)             (None, 79)                11929     \n",
            "                                                                 \n",
            " batch_normalization_3 (Bat  (None, 79)                316       \n",
            " chNormalization)                                                \n",
            "                                                                 \n",
            " dense_7 (Dense)             (None, 40)                3200      \n",
            "                                                                 \n",
            " batch_normalization_4 (Bat  (None, 40)                160       \n",
            " chNormalization)                                                \n",
            "                                                                 \n",
            " dense_8 (Dense)             (None, 20)                820       \n",
            "                                                                 \n",
            " batch_normalization_5 (Bat  (None, 20)                80        \n",
            " chNormalization)                                                \n",
            "                                                                 \n",
            " dense_9 (Dense)             (None, 3)                 63        \n",
            "                                                                 \n",
            "=================================================================\n",
            "Total params: 28568 (111.59 KB)\n",
            "Trainable params: 28290 (110.51 KB)\n",
            "Non-trainable params: 278 (1.09 KB)\n",
            "_________________________________________________________________\n"
          ]
        }
      ]
    },
    {
      "cell_type": "code",
      "source": [
        "# Train the model\n",
        "history = model.fit(x_train, y_train, epochs=40, batch_size=32)"
      ],
      "metadata": {
        "colab": {
          "base_uri": "https://localhost:8080/",
          "height": 1000
        },
        "id": "fdPL4asFf9y3",
        "outputId": "13a051ba-d2ef-47d9-d0cf-46fdd68f98ee"
      },
      "execution_count": 58,
      "outputs": [
        {
          "output_type": "stream",
          "name": "stdout",
          "text": [
            "Epoch 1/40\n",
            "22938/22938 [==============================] - 147s 6ms/step - loss: nan - accuracy: 0.6367\n",
            "Epoch 2/40\n",
            "22938/22938 [==============================] - 148s 6ms/step - loss: nan - accuracy: 0.6367\n",
            "Epoch 3/40\n",
            "22938/22938 [==============================] - 146s 6ms/step - loss: nan - accuracy: 0.6367\n",
            "Epoch 4/40\n",
            "22938/22938 [==============================] - 148s 6ms/step - loss: nan - accuracy: 0.6367\n",
            "Epoch 5/40\n",
            "22938/22938 [==============================] - 149s 7ms/step - loss: nan - accuracy: 0.6367\n",
            "Epoch 6/40\n",
            "22938/22938 [==============================] - 146s 6ms/step - loss: nan - accuracy: 0.6367\n",
            "Epoch 7/40\n",
            "22938/22938 [==============================] - 145s 6ms/step - loss: nan - accuracy: 0.6367\n",
            "Epoch 8/40\n",
            "22938/22938 [==============================] - 147s 6ms/step - loss: nan - accuracy: 0.6367\n",
            "Epoch 9/40\n",
            "22938/22938 [==============================] - 149s 7ms/step - loss: nan - accuracy: 0.6367\n",
            "Epoch 10/40\n",
            "22938/22938 [==============================] - 146s 6ms/step - loss: nan - accuracy: 0.6367\n",
            "Epoch 11/40\n",
            "22938/22938 [==============================] - 148s 6ms/step - loss: nan - accuracy: 0.6367\n",
            "Epoch 12/40\n",
            "22938/22938 [==============================] - 148s 6ms/step - loss: nan - accuracy: 0.6367\n",
            "Epoch 13/40\n",
            "22938/22938 [==============================] - 145s 6ms/step - loss: nan - accuracy: 0.6367\n",
            "Epoch 14/40\n",
            "22938/22938 [==============================] - 148s 6ms/step - loss: nan - accuracy: 0.6367\n",
            "Epoch 15/40\n",
            "22938/22938 [==============================] - 144s 6ms/step - loss: nan - accuracy: 0.6367\n",
            "Epoch 16/40\n",
            "22938/22938 [==============================] - 147s 6ms/step - loss: nan - accuracy: 0.6367\n",
            "Epoch 17/40\n",
            "22938/22938 [==============================] - 144s 6ms/step - loss: nan - accuracy: 0.6367\n",
            "Epoch 18/40\n",
            "22938/22938 [==============================] - 145s 6ms/step - loss: nan - accuracy: 0.6367\n",
            "Epoch 19/40\n",
            "22938/22938 [==============================] - 147s 6ms/step - loss: nan - accuracy: 0.6367\n",
            "Epoch 20/40\n",
            "13469/22938 [================>.............] - ETA: 59s - loss: nan - accuracy: 0.6365"
          ]
        },
        {
          "output_type": "error",
          "ename": "KeyboardInterrupt",
          "evalue": "ignored",
          "traceback": [
            "\u001b[0;31m---------------------------------------------------------------------------\u001b[0m",
            "\u001b[0;31mKeyboardInterrupt\u001b[0m                         Traceback (most recent call last)",
            "\u001b[0;32m<ipython-input-58-169eae4f5423>\u001b[0m in \u001b[0;36m<cell line: 2>\u001b[0;34m()\u001b[0m\n\u001b[1;32m      1\u001b[0m \u001b[0;31m# Train the model\u001b[0m\u001b[0;34m\u001b[0m\u001b[0;34m\u001b[0m\u001b[0m\n\u001b[0;32m----> 2\u001b[0;31m \u001b[0mhistory\u001b[0m \u001b[0;34m=\u001b[0m \u001b[0mmodel\u001b[0m\u001b[0;34m.\u001b[0m\u001b[0mfit\u001b[0m\u001b[0;34m(\u001b[0m\u001b[0mx_train\u001b[0m\u001b[0;34m,\u001b[0m \u001b[0my_train\u001b[0m\u001b[0;34m,\u001b[0m \u001b[0mepochs\u001b[0m\u001b[0;34m=\u001b[0m\u001b[0;36m40\u001b[0m\u001b[0;34m,\u001b[0m \u001b[0mbatch_size\u001b[0m\u001b[0;34m=\u001b[0m\u001b[0;36m32\u001b[0m\u001b[0;34m)\u001b[0m\u001b[0;34m\u001b[0m\u001b[0;34m\u001b[0m\u001b[0m\n\u001b[0m",
            "\u001b[0;32m/usr/local/lib/python3.10/dist-packages/keras/src/utils/traceback_utils.py\u001b[0m in \u001b[0;36merror_handler\u001b[0;34m(*args, **kwargs)\u001b[0m\n\u001b[1;32m     63\u001b[0m         \u001b[0mfiltered_tb\u001b[0m \u001b[0;34m=\u001b[0m \u001b[0;32mNone\u001b[0m\u001b[0;34m\u001b[0m\u001b[0;34m\u001b[0m\u001b[0m\n\u001b[1;32m     64\u001b[0m         \u001b[0;32mtry\u001b[0m\u001b[0;34m:\u001b[0m\u001b[0;34m\u001b[0m\u001b[0;34m\u001b[0m\u001b[0m\n\u001b[0;32m---> 65\u001b[0;31m             \u001b[0;32mreturn\u001b[0m \u001b[0mfn\u001b[0m\u001b[0;34m(\u001b[0m\u001b[0;34m*\u001b[0m\u001b[0margs\u001b[0m\u001b[0;34m,\u001b[0m \u001b[0;34m**\u001b[0m\u001b[0mkwargs\u001b[0m\u001b[0;34m)\u001b[0m\u001b[0;34m\u001b[0m\u001b[0;34m\u001b[0m\u001b[0m\n\u001b[0m\u001b[1;32m     66\u001b[0m         \u001b[0;32mexcept\u001b[0m \u001b[0mException\u001b[0m \u001b[0;32mas\u001b[0m \u001b[0me\u001b[0m\u001b[0;34m:\u001b[0m\u001b[0;34m\u001b[0m\u001b[0;34m\u001b[0m\u001b[0m\n\u001b[1;32m     67\u001b[0m             \u001b[0mfiltered_tb\u001b[0m \u001b[0;34m=\u001b[0m \u001b[0m_process_traceback_frames\u001b[0m\u001b[0;34m(\u001b[0m\u001b[0me\u001b[0m\u001b[0;34m.\u001b[0m\u001b[0m__traceback__\u001b[0m\u001b[0;34m)\u001b[0m\u001b[0;34m\u001b[0m\u001b[0;34m\u001b[0m\u001b[0m\n",
            "\u001b[0;32m/usr/local/lib/python3.10/dist-packages/keras/src/engine/training.py\u001b[0m in \u001b[0;36mfit\u001b[0;34m(self, x, y, batch_size, epochs, verbose, callbacks, validation_split, validation_data, shuffle, class_weight, sample_weight, initial_epoch, steps_per_epoch, validation_steps, validation_batch_size, validation_freq, max_queue_size, workers, use_multiprocessing)\u001b[0m\n\u001b[1;32m   1781\u001b[0m                         ):\n\u001b[1;32m   1782\u001b[0m                             \u001b[0mcallbacks\u001b[0m\u001b[0;34m.\u001b[0m\u001b[0mon_train_batch_begin\u001b[0m\u001b[0;34m(\u001b[0m\u001b[0mstep\u001b[0m\u001b[0;34m)\u001b[0m\u001b[0;34m\u001b[0m\u001b[0;34m\u001b[0m\u001b[0m\n\u001b[0;32m-> 1783\u001b[0;31m                             \u001b[0mtmp_logs\u001b[0m \u001b[0;34m=\u001b[0m \u001b[0mself\u001b[0m\u001b[0;34m.\u001b[0m\u001b[0mtrain_function\u001b[0m\u001b[0;34m(\u001b[0m\u001b[0miterator\u001b[0m\u001b[0;34m)\u001b[0m\u001b[0;34m\u001b[0m\u001b[0;34m\u001b[0m\u001b[0m\n\u001b[0m\u001b[1;32m   1784\u001b[0m                             \u001b[0;32mif\u001b[0m \u001b[0mdata_handler\u001b[0m\u001b[0;34m.\u001b[0m\u001b[0mshould_sync\u001b[0m\u001b[0;34m:\u001b[0m\u001b[0;34m\u001b[0m\u001b[0;34m\u001b[0m\u001b[0m\n\u001b[1;32m   1785\u001b[0m                                 \u001b[0mcontext\u001b[0m\u001b[0;34m.\u001b[0m\u001b[0masync_wait\u001b[0m\u001b[0;34m(\u001b[0m\u001b[0;34m)\u001b[0m\u001b[0;34m\u001b[0m\u001b[0;34m\u001b[0m\u001b[0m\n",
            "\u001b[0;32m/usr/local/lib/python3.10/dist-packages/tensorflow/python/util/traceback_utils.py\u001b[0m in \u001b[0;36merror_handler\u001b[0;34m(*args, **kwargs)\u001b[0m\n\u001b[1;32m    148\u001b[0m     \u001b[0mfiltered_tb\u001b[0m \u001b[0;34m=\u001b[0m \u001b[0;32mNone\u001b[0m\u001b[0;34m\u001b[0m\u001b[0;34m\u001b[0m\u001b[0m\n\u001b[1;32m    149\u001b[0m     \u001b[0;32mtry\u001b[0m\u001b[0;34m:\u001b[0m\u001b[0;34m\u001b[0m\u001b[0;34m\u001b[0m\u001b[0m\n\u001b[0;32m--> 150\u001b[0;31m       \u001b[0;32mreturn\u001b[0m \u001b[0mfn\u001b[0m\u001b[0;34m(\u001b[0m\u001b[0;34m*\u001b[0m\u001b[0margs\u001b[0m\u001b[0;34m,\u001b[0m \u001b[0;34m**\u001b[0m\u001b[0mkwargs\u001b[0m\u001b[0;34m)\u001b[0m\u001b[0;34m\u001b[0m\u001b[0;34m\u001b[0m\u001b[0m\n\u001b[0m\u001b[1;32m    151\u001b[0m     \u001b[0;32mexcept\u001b[0m \u001b[0mException\u001b[0m \u001b[0;32mas\u001b[0m \u001b[0me\u001b[0m\u001b[0;34m:\u001b[0m\u001b[0;34m\u001b[0m\u001b[0;34m\u001b[0m\u001b[0m\n\u001b[1;32m    152\u001b[0m       \u001b[0mfiltered_tb\u001b[0m \u001b[0;34m=\u001b[0m \u001b[0m_process_traceback_frames\u001b[0m\u001b[0;34m(\u001b[0m\u001b[0me\u001b[0m\u001b[0;34m.\u001b[0m\u001b[0m__traceback__\u001b[0m\u001b[0;34m)\u001b[0m\u001b[0;34m\u001b[0m\u001b[0;34m\u001b[0m\u001b[0m\n",
            "\u001b[0;32m/usr/local/lib/python3.10/dist-packages/tensorflow/python/eager/polymorphic_function/polymorphic_function.py\u001b[0m in \u001b[0;36m__call__\u001b[0;34m(self, *args, **kwds)\u001b[0m\n\u001b[1;32m    829\u001b[0m \u001b[0;34m\u001b[0m\u001b[0m\n\u001b[1;32m    830\u001b[0m       \u001b[0;32mwith\u001b[0m \u001b[0mOptionalXlaContext\u001b[0m\u001b[0;34m(\u001b[0m\u001b[0mself\u001b[0m\u001b[0;34m.\u001b[0m\u001b[0m_jit_compile\u001b[0m\u001b[0;34m)\u001b[0m\u001b[0;34m:\u001b[0m\u001b[0;34m\u001b[0m\u001b[0;34m\u001b[0m\u001b[0m\n\u001b[0;32m--> 831\u001b[0;31m         \u001b[0mresult\u001b[0m \u001b[0;34m=\u001b[0m \u001b[0mself\u001b[0m\u001b[0;34m.\u001b[0m\u001b[0m_call\u001b[0m\u001b[0;34m(\u001b[0m\u001b[0;34m*\u001b[0m\u001b[0margs\u001b[0m\u001b[0;34m,\u001b[0m \u001b[0;34m**\u001b[0m\u001b[0mkwds\u001b[0m\u001b[0;34m)\u001b[0m\u001b[0;34m\u001b[0m\u001b[0;34m\u001b[0m\u001b[0m\n\u001b[0m\u001b[1;32m    832\u001b[0m \u001b[0;34m\u001b[0m\u001b[0m\n\u001b[1;32m    833\u001b[0m       \u001b[0mnew_tracing_count\u001b[0m \u001b[0;34m=\u001b[0m \u001b[0mself\u001b[0m\u001b[0;34m.\u001b[0m\u001b[0mexperimental_get_tracing_count\u001b[0m\u001b[0;34m(\u001b[0m\u001b[0;34m)\u001b[0m\u001b[0;34m\u001b[0m\u001b[0;34m\u001b[0m\u001b[0m\n",
            "\u001b[0;32m/usr/local/lib/python3.10/dist-packages/tensorflow/python/eager/polymorphic_function/polymorphic_function.py\u001b[0m in \u001b[0;36m_call\u001b[0;34m(self, *args, **kwds)\u001b[0m\n\u001b[1;32m    865\u001b[0m       \u001b[0;31m# In this case we have created variables on the first call, so we run the\u001b[0m\u001b[0;34m\u001b[0m\u001b[0;34m\u001b[0m\u001b[0m\n\u001b[1;32m    866\u001b[0m       \u001b[0;31m# defunned version which is guaranteed to never create variables.\u001b[0m\u001b[0;34m\u001b[0m\u001b[0;34m\u001b[0m\u001b[0m\n\u001b[0;32m--> 867\u001b[0;31m       return tracing_compilation.call_function(\n\u001b[0m\u001b[1;32m    868\u001b[0m           \u001b[0margs\u001b[0m\u001b[0;34m,\u001b[0m \u001b[0mkwds\u001b[0m\u001b[0;34m,\u001b[0m \u001b[0mself\u001b[0m\u001b[0;34m.\u001b[0m\u001b[0m_no_variable_creation_config\u001b[0m\u001b[0;34m\u001b[0m\u001b[0;34m\u001b[0m\u001b[0m\n\u001b[1;32m    869\u001b[0m       )\n",
            "\u001b[0;32m/usr/local/lib/python3.10/dist-packages/tensorflow/python/eager/polymorphic_function/tracing_compilation.py\u001b[0m in \u001b[0;36mcall_function\u001b[0;34m(args, kwargs, tracing_options)\u001b[0m\n\u001b[1;32m    137\u001b[0m   \u001b[0mbound_args\u001b[0m \u001b[0;34m=\u001b[0m \u001b[0mfunction\u001b[0m\u001b[0;34m.\u001b[0m\u001b[0mfunction_type\u001b[0m\u001b[0;34m.\u001b[0m\u001b[0mbind\u001b[0m\u001b[0;34m(\u001b[0m\u001b[0;34m*\u001b[0m\u001b[0margs\u001b[0m\u001b[0;34m,\u001b[0m \u001b[0;34m**\u001b[0m\u001b[0mkwargs\u001b[0m\u001b[0;34m)\u001b[0m\u001b[0;34m\u001b[0m\u001b[0;34m\u001b[0m\u001b[0m\n\u001b[1;32m    138\u001b[0m   \u001b[0mflat_inputs\u001b[0m \u001b[0;34m=\u001b[0m \u001b[0mfunction\u001b[0m\u001b[0;34m.\u001b[0m\u001b[0mfunction_type\u001b[0m\u001b[0;34m.\u001b[0m\u001b[0munpack_inputs\u001b[0m\u001b[0;34m(\u001b[0m\u001b[0mbound_args\u001b[0m\u001b[0;34m)\u001b[0m\u001b[0;34m\u001b[0m\u001b[0;34m\u001b[0m\u001b[0m\n\u001b[0;32m--> 139\u001b[0;31m   return function._call_flat(  # pylint: disable=protected-access\n\u001b[0m\u001b[1;32m    140\u001b[0m       \u001b[0mflat_inputs\u001b[0m\u001b[0;34m,\u001b[0m \u001b[0mcaptured_inputs\u001b[0m\u001b[0;34m=\u001b[0m\u001b[0mfunction\u001b[0m\u001b[0;34m.\u001b[0m\u001b[0mcaptured_inputs\u001b[0m\u001b[0;34m\u001b[0m\u001b[0;34m\u001b[0m\u001b[0m\n\u001b[1;32m    141\u001b[0m   )\n",
            "\u001b[0;32m/usr/local/lib/python3.10/dist-packages/tensorflow/python/eager/polymorphic_function/concrete_function.py\u001b[0m in \u001b[0;36m_call_flat\u001b[0;34m(self, tensor_inputs, captured_inputs)\u001b[0m\n\u001b[1;32m   1262\u001b[0m         and executing_eagerly):\n\u001b[1;32m   1263\u001b[0m       \u001b[0;31m# No tape is watching; skip to running the function.\u001b[0m\u001b[0;34m\u001b[0m\u001b[0;34m\u001b[0m\u001b[0m\n\u001b[0;32m-> 1264\u001b[0;31m       \u001b[0;32mreturn\u001b[0m \u001b[0mself\u001b[0m\u001b[0;34m.\u001b[0m\u001b[0m_inference_function\u001b[0m\u001b[0;34m.\u001b[0m\u001b[0mflat_call\u001b[0m\u001b[0;34m(\u001b[0m\u001b[0margs\u001b[0m\u001b[0;34m)\u001b[0m\u001b[0;34m\u001b[0m\u001b[0;34m\u001b[0m\u001b[0m\n\u001b[0m\u001b[1;32m   1265\u001b[0m     forward_backward = self._select_forward_and_backward_functions(\n\u001b[1;32m   1266\u001b[0m         \u001b[0margs\u001b[0m\u001b[0;34m,\u001b[0m\u001b[0;34m\u001b[0m\u001b[0;34m\u001b[0m\u001b[0m\n",
            "\u001b[0;32m/usr/local/lib/python3.10/dist-packages/tensorflow/python/eager/polymorphic_function/atomic_function.py\u001b[0m in \u001b[0;36mflat_call\u001b[0;34m(self, args)\u001b[0m\n\u001b[1;32m    215\u001b[0m   \u001b[0;32mdef\u001b[0m \u001b[0mflat_call\u001b[0m\u001b[0;34m(\u001b[0m\u001b[0mself\u001b[0m\u001b[0;34m,\u001b[0m \u001b[0margs\u001b[0m\u001b[0;34m:\u001b[0m \u001b[0mSequence\u001b[0m\u001b[0;34m[\u001b[0m\u001b[0mcore\u001b[0m\u001b[0;34m.\u001b[0m\u001b[0mTensor\u001b[0m\u001b[0;34m]\u001b[0m\u001b[0;34m)\u001b[0m \u001b[0;34m->\u001b[0m \u001b[0mAny\u001b[0m\u001b[0;34m:\u001b[0m\u001b[0;34m\u001b[0m\u001b[0;34m\u001b[0m\u001b[0m\n\u001b[1;32m    216\u001b[0m     \u001b[0;34m\"\"\"Calls with tensor inputs and returns the structured output.\"\"\"\u001b[0m\u001b[0;34m\u001b[0m\u001b[0;34m\u001b[0m\u001b[0m\n\u001b[0;32m--> 217\u001b[0;31m     \u001b[0mflat_outputs\u001b[0m \u001b[0;34m=\u001b[0m \u001b[0mself\u001b[0m\u001b[0;34m(\u001b[0m\u001b[0;34m*\u001b[0m\u001b[0margs\u001b[0m\u001b[0;34m)\u001b[0m\u001b[0;34m\u001b[0m\u001b[0;34m\u001b[0m\u001b[0m\n\u001b[0m\u001b[1;32m    218\u001b[0m     \u001b[0;32mreturn\u001b[0m \u001b[0mself\u001b[0m\u001b[0;34m.\u001b[0m\u001b[0mfunction_type\u001b[0m\u001b[0;34m.\u001b[0m\u001b[0mpack_output\u001b[0m\u001b[0;34m(\u001b[0m\u001b[0mflat_outputs\u001b[0m\u001b[0;34m)\u001b[0m\u001b[0;34m\u001b[0m\u001b[0;34m\u001b[0m\u001b[0m\n\u001b[1;32m    219\u001b[0m \u001b[0;34m\u001b[0m\u001b[0m\n",
            "\u001b[0;32m/usr/local/lib/python3.10/dist-packages/tensorflow/python/eager/polymorphic_function/atomic_function.py\u001b[0m in \u001b[0;36m__call__\u001b[0;34m(self, *args)\u001b[0m\n\u001b[1;32m    250\u001b[0m         \u001b[0;32mwith\u001b[0m \u001b[0mrecord\u001b[0m\u001b[0;34m.\u001b[0m\u001b[0mstop_recording\u001b[0m\u001b[0;34m(\u001b[0m\u001b[0;34m)\u001b[0m\u001b[0;34m:\u001b[0m\u001b[0;34m\u001b[0m\u001b[0;34m\u001b[0m\u001b[0m\n\u001b[1;32m    251\u001b[0m           \u001b[0;32mif\u001b[0m \u001b[0mself\u001b[0m\u001b[0;34m.\u001b[0m\u001b[0m_bound_context\u001b[0m\u001b[0;34m.\u001b[0m\u001b[0mexecuting_eagerly\u001b[0m\u001b[0;34m(\u001b[0m\u001b[0;34m)\u001b[0m\u001b[0;34m:\u001b[0m\u001b[0;34m\u001b[0m\u001b[0;34m\u001b[0m\u001b[0m\n\u001b[0;32m--> 252\u001b[0;31m             outputs = self._bound_context.call_function(\n\u001b[0m\u001b[1;32m    253\u001b[0m                 \u001b[0mself\u001b[0m\u001b[0;34m.\u001b[0m\u001b[0mname\u001b[0m\u001b[0;34m,\u001b[0m\u001b[0;34m\u001b[0m\u001b[0;34m\u001b[0m\u001b[0m\n\u001b[1;32m    254\u001b[0m                 \u001b[0mlist\u001b[0m\u001b[0;34m(\u001b[0m\u001b[0margs\u001b[0m\u001b[0;34m)\u001b[0m\u001b[0;34m,\u001b[0m\u001b[0;34m\u001b[0m\u001b[0;34m\u001b[0m\u001b[0m\n",
            "\u001b[0;32m/usr/local/lib/python3.10/dist-packages/tensorflow/python/eager/context.py\u001b[0m in \u001b[0;36mcall_function\u001b[0;34m(self, name, tensor_inputs, num_outputs)\u001b[0m\n\u001b[1;32m   1477\u001b[0m     \u001b[0mcancellation_context\u001b[0m \u001b[0;34m=\u001b[0m \u001b[0mcancellation\u001b[0m\u001b[0;34m.\u001b[0m\u001b[0mcontext\u001b[0m\u001b[0;34m(\u001b[0m\u001b[0;34m)\u001b[0m\u001b[0;34m\u001b[0m\u001b[0;34m\u001b[0m\u001b[0m\n\u001b[1;32m   1478\u001b[0m     \u001b[0;32mif\u001b[0m \u001b[0mcancellation_context\u001b[0m \u001b[0;32mis\u001b[0m \u001b[0;32mNone\u001b[0m\u001b[0;34m:\u001b[0m\u001b[0;34m\u001b[0m\u001b[0;34m\u001b[0m\u001b[0m\n\u001b[0;32m-> 1479\u001b[0;31m       outputs = execute.execute(\n\u001b[0m\u001b[1;32m   1480\u001b[0m           \u001b[0mname\u001b[0m\u001b[0;34m.\u001b[0m\u001b[0mdecode\u001b[0m\u001b[0;34m(\u001b[0m\u001b[0;34m\"utf-8\"\u001b[0m\u001b[0;34m)\u001b[0m\u001b[0;34m,\u001b[0m\u001b[0;34m\u001b[0m\u001b[0;34m\u001b[0m\u001b[0m\n\u001b[1;32m   1481\u001b[0m           \u001b[0mnum_outputs\u001b[0m\u001b[0;34m=\u001b[0m\u001b[0mnum_outputs\u001b[0m\u001b[0;34m,\u001b[0m\u001b[0;34m\u001b[0m\u001b[0;34m\u001b[0m\u001b[0m\n",
            "\u001b[0;32m/usr/local/lib/python3.10/dist-packages/tensorflow/python/eager/execute.py\u001b[0m in \u001b[0;36mquick_execute\u001b[0;34m(op_name, num_outputs, inputs, attrs, ctx, name)\u001b[0m\n\u001b[1;32m     58\u001b[0m         \u001b[0;32mfor\u001b[0m \u001b[0mt\u001b[0m \u001b[0;32min\u001b[0m \u001b[0minputs\u001b[0m\u001b[0;34m\u001b[0m\u001b[0;34m\u001b[0m\u001b[0m\n\u001b[1;32m     59\u001b[0m     ]\n\u001b[0;32m---> 60\u001b[0;31m     tensors = pywrap_tfe.TFE_Py_Execute(ctx._handle, device_name, op_name,\n\u001b[0m\u001b[1;32m     61\u001b[0m                                         inputs, attrs, num_outputs)\n\u001b[1;32m     62\u001b[0m   \u001b[0;32mexcept\u001b[0m \u001b[0mcore\u001b[0m\u001b[0;34m.\u001b[0m\u001b[0m_NotOkStatusException\u001b[0m \u001b[0;32mas\u001b[0m \u001b[0me\u001b[0m\u001b[0;34m:\u001b[0m\u001b[0;34m\u001b[0m\u001b[0;34m\u001b[0m\u001b[0m\n",
            "\u001b[0;31mKeyboardInterrupt\u001b[0m: "
          ]
        }
      ]
    },
    {
      "cell_type": "code",
      "source": [
        "# Evaluate the model on the test set\n",
        "loss, accuracy = model.evaluate(x_test, y_test)\n",
        "print(f'Test Loss: {loss}, Test Accuracy: {accuracy}')"
      ],
      "metadata": {
        "colab": {
          "base_uri": "https://localhost:8080/"
        },
        "id": "Yp0GbsjLgkSf",
        "outputId": "0732d4e6-9f7f-456c-ccb4-4b23be6108ee"
      },
      "execution_count": null,
      "outputs": [
        {
          "output_type": "stream",
          "name": "stdout",
          "text": [
            "237/237 [==============================] - 0s 1ms/step - loss: 0.1433 - accuracy: 0.9927\n",
            "Test Loss: 0.14333464205265045, Test Accuracy: 0.9927229285240173\n"
          ]
        }
      ]
    },
    {
      "cell_type": "code",
      "source": [
        "\n"
      ],
      "metadata": {
        "id": "dDQ7y5Bqg4uV"
      },
      "execution_count": null,
      "outputs": []
    }
  ]
}